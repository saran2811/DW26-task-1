{
  "cells": [
    {
      "cell_type": "markdown",
      "metadata": {
        "id": "view-in-github",
        "colab_type": "text"
      },
      "source": [
        "<a href=\"https://colab.research.google.com/github/saran2811/DW26-task-1/blob/main/Numpy_task_saran.ipynb\" target=\"_parent\"><img src=\"https://colab.research.google.com/assets/colab-badge.svg\" alt=\"Open In Colab\"/></a>"
      ]
    },
    {
      "cell_type": "markdown",
      "metadata": {
        "id": "SbHGN03Ry9fB"
      },
      "source": [
        "# Numpy\n",
        "\n"
      ]
    },
    {
      "cell_type": "markdown",
      "metadata": {
        "id": "WaR37VSHy9fQ"
      },
      "source": [
        "#### 1. Import the numpy package under the name `np` (★☆☆) \n",
        "(**hint**: import … as …)"
      ]
    },
    {
      "cell_type": "code",
      "execution_count": null,
      "metadata": {
        "collapsed": true,
        "id": "H90ij_JXy9fT"
      },
      "outputs": [],
      "source": [
        "import numpy as np"
      ]
    },
    {
      "cell_type": "markdown",
      "metadata": {
        "id": "8GIwQ2O7y9fV"
      },
      "source": [
        "#### 2. Print the numpy version and the configuration (★☆☆) \n",
        "(**hint**: np.\\_\\_version\\_\\_, np.show\\_config)"
      ]
    },
    {
      "cell_type": "code",
      "execution_count": null,
      "metadata": {
        "id": "XrBlvtL5y9fc",
        "colab": {
          "base_uri": "https://localhost:8080/"
        },
        "outputId": "9f372f55-f7c6-46f8-a031-7278ccb98152"
      },
      "outputs": [
        {
          "output_type": "stream",
          "name": "stdout",
          "text": [
            "1.21.6\n",
            "blas_mkl_info:\n",
            "  NOT AVAILABLE\n",
            "blis_info:\n",
            "  NOT AVAILABLE\n",
            "openblas_info:\n",
            "    libraries = ['openblas', 'openblas']\n",
            "    library_dirs = ['/usr/local/lib']\n",
            "    language = c\n",
            "    define_macros = [('HAVE_CBLAS', None)]\n",
            "    runtime_library_dirs = ['/usr/local/lib']\n",
            "blas_opt_info:\n",
            "    libraries = ['openblas', 'openblas']\n",
            "    library_dirs = ['/usr/local/lib']\n",
            "    language = c\n",
            "    define_macros = [('HAVE_CBLAS', None)]\n",
            "    runtime_library_dirs = ['/usr/local/lib']\n",
            "lapack_mkl_info:\n",
            "  NOT AVAILABLE\n",
            "openblas_lapack_info:\n",
            "    libraries = ['openblas', 'openblas']\n",
            "    library_dirs = ['/usr/local/lib']\n",
            "    language = c\n",
            "    define_macros = [('HAVE_CBLAS', None)]\n",
            "    runtime_library_dirs = ['/usr/local/lib']\n",
            "lapack_opt_info:\n",
            "    libraries = ['openblas', 'openblas']\n",
            "    library_dirs = ['/usr/local/lib']\n",
            "    language = c\n",
            "    define_macros = [('HAVE_CBLAS', None)]\n",
            "    runtime_library_dirs = ['/usr/local/lib']\n",
            "Supported SIMD extensions in this NumPy install:\n",
            "    baseline = SSE,SSE2,SSE3\n",
            "    found = SSSE3,SSE41,POPCNT,SSE42,AVX,F16C,FMA3,AVX2\n",
            "    not found = AVX512F,AVX512CD,AVX512_KNL,AVX512_KNM,AVX512_SKX,AVX512_CLX,AVX512_CNL,AVX512_ICL\n",
            "None\n"
          ]
        }
      ],
      "source": [
        "print(np.version.version)\n",
        "print(np.show_config())"
      ]
    },
    {
      "cell_type": "markdown",
      "metadata": {
        "id": "XQygMH9by9fc"
      },
      "source": [
        "#### 3. Create a null vector of size 10 (★☆☆) \n",
        "(**hint**: np.zeros)"
      ]
    },
    {
      "cell_type": "code",
      "execution_count": null,
      "metadata": {
        "id": "MJ8WYOe-y9fe",
        "colab": {
          "base_uri": "https://localhost:8080/"
        },
        "outputId": "fcced6d8-313a-4054-9966-fd79f8483777"
      },
      "outputs": [
        {
          "output_type": "execute_result",
          "data": {
            "text/plain": [
              "array([0., 0., 0., 0., 0., 0., 0., 0., 0., 0.])"
            ]
          },
          "metadata": {},
          "execution_count": 4
        }
      ],
      "source": [
        "x=np.zeros(10)\n",
        "x"
      ]
    },
    {
      "cell_type": "markdown",
      "metadata": {
        "id": "hRT8A3mhy9fg"
      },
      "source": [
        "#### 4.  How to find the memory size of any array (★☆☆) \n",
        "(**hint**: size, itemsize)"
      ]
    },
    {
      "cell_type": "code",
      "execution_count": null,
      "metadata": {
        "id": "1h-aUyecy9fj",
        "colab": {
          "base_uri": "https://localhost:8080/"
        },
        "outputId": "e2039ef1-4c3c-43af-a881-5dfc8a7f76fd"
      },
      "outputs": [
        {
          "output_type": "stream",
          "name": "stdout",
          "text": [
            "80 bytes\n"
          ]
        }
      ],
      "source": [
        "x.size,x.itemsize\n",
        "print('%d bytes'%(x.size * x.itemsize))"
      ]
    },
    {
      "cell_type": "markdown",
      "metadata": {
        "id": "ls07swsxy9fk"
      },
      "source": [
        "#### 5.  How to get the documentation of the numpy add function from the command line? (★☆☆) \n",
        "(**hint**: np.info)"
      ]
    },
    {
      "cell_type": "code",
      "execution_count": null,
      "metadata": {
        "collapsed": true,
        "id": "F3yJvcC_y9fm",
        "colab": {
          "base_uri": "https://localhost:8080/"
        },
        "outputId": "2196e2ba-cbe1-4ba7-bf8d-5ad392da9f87"
      },
      "outputs": [
        {
          "output_type": "stream",
          "name": "stdout",
          "text": [
            "add(x1, x2, /, out=None, *, where=True, casting='same_kind', order='K', dtype=None, subok=True[, signature, extobj])\n",
            "\n",
            "Add arguments element-wise.\n",
            "\n",
            "Parameters\n",
            "----------\n",
            "x1, x2 : array_like\n",
            "    The arrays to be added.\n",
            "    If ``x1.shape != x2.shape``, they must be broadcastable to a common\n",
            "    shape (which becomes the shape of the output).\n",
            "out : ndarray, None, or tuple of ndarray and None, optional\n",
            "    A location into which the result is stored. If provided, it must have\n",
            "    a shape that the inputs broadcast to. If not provided or None,\n",
            "    a freshly-allocated array is returned. A tuple (possible only as a\n",
            "    keyword argument) must have length equal to the number of outputs.\n",
            "where : array_like, optional\n",
            "    This condition is broadcast over the input. At locations where the\n",
            "    condition is True, the `out` array will be set to the ufunc result.\n",
            "    Elsewhere, the `out` array will retain its original value.\n",
            "    Note that if an uninitialized `out` array is created via the default\n",
            "    ``out=None``, locations within it where the condition is False will\n",
            "    remain uninitialized.\n",
            "**kwargs\n",
            "    For other keyword-only arguments, see the\n",
            "    :ref:`ufunc docs <ufuncs.kwargs>`.\n",
            "\n",
            "Returns\n",
            "-------\n",
            "add : ndarray or scalar\n",
            "    The sum of `x1` and `x2`, element-wise.\n",
            "    This is a scalar if both `x1` and `x2` are scalars.\n",
            "\n",
            "Notes\n",
            "-----\n",
            "Equivalent to `x1` + `x2` in terms of array broadcasting.\n",
            "\n",
            "Examples\n",
            "--------\n",
            ">>> np.add(1.0, 4.0)\n",
            "5.0\n",
            ">>> x1 = np.arange(9.0).reshape((3, 3))\n",
            ">>> x2 = np.arange(3.0)\n",
            ">>> np.add(x1, x2)\n",
            "array([[  0.,   2.,   4.],\n",
            "       [  3.,   5.,   7.],\n",
            "       [  6.,   8.,  10.]])\n",
            "\n",
            "The ``+`` operator can be used as a shorthand for ``np.add`` on ndarrays.\n",
            "\n",
            ">>> x1 = np.arange(9.0).reshape((3, 3))\n",
            ">>> x2 = np.arange(3.0)\n",
            ">>> x1 + x2\n",
            "array([[ 0.,  2.,  4.],\n",
            "       [ 3.,  5.,  7.],\n",
            "       [ 6.,  8., 10.]])\n"
          ]
        }
      ],
      "source": [
        "np.info(np.add)"
      ]
    },
    {
      "cell_type": "markdown",
      "metadata": {
        "id": "aYXZQt4Ty9fr"
      },
      "source": [
        "#### 6.  Create a null vector of size 10 but the fifth value which is 1 (★☆☆) \n",
        "(**hint**: array\\[4\\])"
      ]
    },
    {
      "cell_type": "code",
      "execution_count": null,
      "metadata": {
        "id": "cLEbrn_Qy9ft",
        "colab": {
          "base_uri": "https://localhost:8080/"
        },
        "outputId": "dc6a7ed8-5f6a-493d-e861-242560fce15b"
      },
      "outputs": [
        {
          "output_type": "execute_result",
          "data": {
            "text/plain": [
              "array([0., 0., 0., 0., 1., 0., 0., 0., 0., 0.])"
            ]
          },
          "metadata": {},
          "execution_count": 6
        }
      ],
      "source": [
        "y=np.zeros(10)\n",
        "y[4]=1\n",
        "y"
      ]
    },
    {
      "cell_type": "markdown",
      "metadata": {
        "id": "iiVO4uwty9fu"
      },
      "source": [
        "#### 7.  Create a vector with values ranging from 10 to 49 (★☆☆) \n",
        "(**hint**: np.arange)"
      ]
    },
    {
      "cell_type": "code",
      "execution_count": null,
      "metadata": {
        "id": "uc8MKh1ry9fv",
        "colab": {
          "base_uri": "https://localhost:8080/"
        },
        "outputId": "e5d9491a-1340-476d-ecd8-edc21a03499c"
      },
      "outputs": [
        {
          "output_type": "execute_result",
          "data": {
            "text/plain": [
              "array([10, 11, 12, 13, 14, 15, 16, 17, 18, 19, 20, 21, 22, 23, 24, 25, 26,\n",
              "       27, 28, 29, 30, 31, 32, 33, 34, 35, 36, 37, 38, 39, 40, 41, 42, 43,\n",
              "       44, 45, 46, 47, 48])"
            ]
          },
          "metadata": {},
          "execution_count": 7
        }
      ],
      "source": [
        "y=np.arange(10,49)\n",
        "y"
      ]
    },
    {
      "cell_type": "markdown",
      "metadata": {
        "id": "3ADSlzNNy9fw"
      },
      "source": [
        "#### 8.  Reverse a vector (first element becomes last) (★☆☆) \n",
        "(**hint**: array\\[::-1\\])"
      ]
    },
    {
      "cell_type": "code",
      "execution_count": null,
      "metadata": {
        "id": "FlDOmiFKy9fx",
        "colab": {
          "base_uri": "https://localhost:8080/"
        },
        "outputId": "8100392e-a33f-412c-ab2b-cef7958fbbe0"
      },
      "outputs": [
        {
          "output_type": "stream",
          "name": "stdout",
          "text": [
            "[48 47 46 45 44 43 42 41 40 39 38 37 36 35 34 33 32 31 30 29 28 27 26 25\n",
            " 24 23 22 21 20 19 18 17 16 15 14 13 12 11 10]\n"
          ]
        }
      ],
      "source": [
        "y=np.arange(10,49)\n",
        "print(y[::-1])"
      ]
    },
    {
      "cell_type": "markdown",
      "metadata": {
        "id": "d7_rjZfFy9fy"
      },
      "source": [
        "#### 9.  Create a 3x3 matrix with values ranging from 0 to 8 (★☆☆) \n",
        "(**hint**: reshape)"
      ]
    },
    {
      "cell_type": "code",
      "execution_count": null,
      "metadata": {
        "id": "f_Rwq_tUy9fz",
        "colab": {
          "base_uri": "https://localhost:8080/"
        },
        "outputId": "39103dc4-89d2-40bc-df9f-d87c6bca301a"
      },
      "outputs": [
        {
          "output_type": "execute_result",
          "data": {
            "text/plain": [
              "array([[0, 1, 2],\n",
              "       [3, 4, 5],\n",
              "       [6, 7, 8]])"
            ]
          },
          "metadata": {},
          "execution_count": 10
        }
      ],
      "source": [
        "y=np.arange(0,9).reshape(3,3)\n",
        "y"
      ]
    },
    {
      "cell_type": "markdown",
      "metadata": {
        "id": "W4SfQpZ2y9fz"
      },
      "source": [
        "#### 10. Find indices of non-zero elements from \\[1,2,0,0,4,0\\] (★☆☆) \n",
        "(**hint**: np.nonzero)"
      ]
    },
    {
      "cell_type": "code",
      "execution_count": null,
      "metadata": {
        "id": "H5hpwba3y9fz",
        "colab": {
          "base_uri": "https://localhost:8080/"
        },
        "outputId": "0653c724-c9ab-4e70-cd72-0208b03cf3ea"
      },
      "outputs": [
        {
          "output_type": "execute_result",
          "data": {
            "text/plain": [
              "(array([0, 1, 4]),)"
            ]
          },
          "metadata": {},
          "execution_count": 12
        }
      ],
      "source": [
        "x=np.array([1,2,0,0,4,0])\n",
        "y=x.nonzero()\n",
        "y"
      ]
    },
    {
      "cell_type": "markdown",
      "metadata": {
        "id": "9q0cy-Ley9f0"
      },
      "source": [
        "#### 11. Create a 3x3 identity matrix (★☆☆) \n",
        "(**hint**: np.eye)"
      ]
    },
    {
      "cell_type": "code",
      "execution_count": null,
      "metadata": {
        "id": "zLLsBKFOy9f0",
        "colab": {
          "base_uri": "https://localhost:8080/"
        },
        "outputId": "9a3fc95e-a677-4629-a1f9-92be5a698f3a"
      },
      "outputs": [
        {
          "output_type": "execute_result",
          "data": {
            "text/plain": [
              "array([[1., 0., 0.],\n",
              "       [0., 1., 0.],\n",
              "       [0., 0., 1.]])"
            ]
          },
          "metadata": {},
          "execution_count": 13
        }
      ],
      "source": [
        "x=np.eye(3,3)\n",
        "x"
      ]
    },
    {
      "cell_type": "markdown",
      "metadata": {
        "id": "22vULssLy9f1"
      },
      "source": [
        "#### 12. Create a 3x3x3 array with random values (★☆☆) \n",
        "(**hint**: np.random.random)"
      ]
    },
    {
      "cell_type": "code",
      "execution_count": null,
      "metadata": {
        "collapsed": true,
        "id": "46MyvhMCy9f2",
        "colab": {
          "base_uri": "https://localhost:8080/"
        },
        "outputId": "c52a3fd6-da71-47c0-fc74-1c1cdfdb7dc6"
      },
      "outputs": [
        {
          "output_type": "execute_result",
          "data": {
            "text/plain": [
              "array([[[0.09073175, 0.15737331, 0.35028132],\n",
              "        [0.63361233, 0.54180139, 0.99522884],\n",
              "        [0.10419422, 0.91793197, 0.24018734]],\n",
              "\n",
              "       [[0.16972094, 0.7551839 , 0.66055449],\n",
              "        [0.32383372, 0.79935491, 0.45316949],\n",
              "        [0.95489725, 0.90286714, 0.24152052]],\n",
              "\n",
              "       [[0.78606088, 0.633738  , 0.0161629 ],\n",
              "        [0.47077716, 0.89424735, 0.83413452],\n",
              "        [0.13858393, 0.74185441, 0.56654683]]])"
            ]
          },
          "metadata": {},
          "execution_count": 9
        }
      ],
      "source": [
        "x=np.random.random((3,3,3))\n",
        "x"
      ]
    },
    {
      "cell_type": "markdown",
      "metadata": {
        "id": "nOXdjYEWy9f2"
      },
      "source": [
        "#### 13. Create a 10x10 array with random values and find the minimum and maximum values (★☆☆) \n",
        "(**hint**: min, max)"
      ]
    },
    {
      "cell_type": "code",
      "execution_count": null,
      "metadata": {
        "id": "geEChsCTy9f3",
        "colab": {
          "base_uri": "https://localhost:8080/"
        },
        "outputId": "da4a3343-1b18-478b-b74e-e432dc819ea1"
      },
      "outputs": [
        {
          "output_type": "execute_result",
          "data": {
            "text/plain": [
              "(0.014464307120196862, 0.9966795603172723)"
            ]
          },
          "metadata": {},
          "execution_count": 18
        }
      ],
      "source": [
        "x=np.random.random((10,10))\n",
        "x.min(),x.max()"
      ]
    },
    {
      "cell_type": "markdown",
      "metadata": {
        "id": "RJgNxqU6y9f3"
      },
      "source": [
        "#### 14. Create a random vector of size 30 and find the mean value (★☆☆) \n",
        "(**hint**: mean)"
      ]
    },
    {
      "cell_type": "code",
      "execution_count": null,
      "metadata": {
        "id": "aK7P7n6Cy9f6",
        "colab": {
          "base_uri": "https://localhost:8080/"
        },
        "outputId": "beebc8de-2182-4d00-d655-bd2499cb7287"
      },
      "outputs": [
        {
          "output_type": "execute_result",
          "data": {
            "text/plain": [
              "14.5"
            ]
          },
          "metadata": {},
          "execution_count": 20
        }
      ],
      "source": [
        "x=np.arange(30)\n",
        "x.mean()"
      ]
    },
    {
      "cell_type": "markdown",
      "metadata": {
        "id": "jABh3BbHy9f6"
      },
      "source": [
        "#### 15. Create a 2d array with 1 on the border and 0 inside (★☆☆) \n",
        "(**hint**: array\\[1:-1, 1:-1\\])"
      ]
    },
    {
      "cell_type": "code",
      "execution_count": null,
      "metadata": {
        "id": "XJQv4VZUy9f7",
        "colab": {
          "base_uri": "https://localhost:8080/"
        },
        "outputId": "b523fa4a-aafb-4b34-bad2-266e35a2c1ff"
      },
      "outputs": [
        {
          "output_type": "execute_result",
          "data": {
            "text/plain": [
              "array([[1., 1., 1., 1., 1.],\n",
              "       [1., 0., 0., 0., 1.],\n",
              "       [1., 0., 0., 0., 1.],\n",
              "       [1., 0., 0., 0., 1.],\n",
              "       [1., 0., 0., 0., 1.],\n",
              "       [1., 1., 1., 1., 1.]])"
            ]
          },
          "metadata": {},
          "execution_count": 27
        }
      ],
      "source": [
        "x=np.ones(30).reshape(6,5)\n",
        "x[1:-1,1:-1]=0\n",
        "x"
      ]
    },
    {
      "cell_type": "markdown",
      "metadata": {
        "id": "B6Zi5dzNy9f7"
      },
      "source": [
        "#### 16. How to add a border (filled with 0's) around an existing array? (★☆☆) \n",
        "(**hint**: np.pad)"
      ]
    },
    {
      "cell_type": "code",
      "execution_count": null,
      "metadata": {
        "id": "-gXUeXUhy9f8",
        "colab": {
          "base_uri": "https://localhost:8080/"
        },
        "outputId": "57ecf34c-7289-47cb-c28f-d21f2b4a80f2"
      },
      "outputs": [
        {
          "output_type": "execute_result",
          "data": {
            "text/plain": [
              "array([[ 0,  0,  0,  0,  0,  0],\n",
              "       [ 0,  1,  2,  3,  4,  0],\n",
              "       [ 0,  5,  6,  7,  8,  0],\n",
              "       [ 0,  9, 10, 11, 12,  0],\n",
              "       [ 0,  0,  0,  0,  0,  0]])"
            ]
          },
          "metadata": {},
          "execution_count": 18
        }
      ],
      "source": [
        "x=np.arange(1,13).reshape(3,4)\n",
        "y=np.pad(x,pad_width=1,mode=\"constant\",constant_values=0)\n",
        "y"
      ]
    },
    {
      "cell_type": "markdown",
      "metadata": {
        "id": "Jpyy5PySy9f8"
      },
      "source": [
        ":#### 17. What is the result of the following expression? (★☆☆) \n",
        "(**hint**: NaN = not a number, inf = infinity)"
      ]
    },
    {
      "cell_type": "markdown",
      "metadata": {
        "id": "VV9QuXxmy9f8"
      },
      "source": [
        "```python\n",
        "0 * np.nan\n",
        "np.nan == np.nan\n",
        "np.inf > np.nan\n",
        "np.nan - np.nan\n",
        "0.3 == 3 * 0.1\n",
        "```"
      ]
    },
    {
      "cell_type": "code",
      "execution_count": null,
      "metadata": {
        "id": "4Q6uKJImy9f9",
        "colab": {
          "base_uri": "https://localhost:8080/"
        },
        "outputId": "fbea4b6a-6204-4ed5-ba66-aa84ad31d9d4"
      },
      "outputs": [
        {
          "output_type": "execute_result",
          "data": {
            "text/plain": [
              "(nan, False, False, nan, False)"
            ]
          },
          "metadata": {},
          "execution_count": 18
        }
      ],
      "source": [
        "0*np.nan,np.nan == np.nan,np.inf > np.nan,np.nan - np.nan,0.3 == 3 * 0.1"
      ]
    },
    {
      "cell_type": "markdown",
      "metadata": {
        "id": "_eE6ooKty9f9"
      },
      "source": [
        "#### 18. Create a 5x5 matrix with values 1,2,3,4 just below the diagonal (★☆☆) \n",
        "(**hint**: np.diag)"
      ]
    },
    {
      "cell_type": "code",
      "execution_count": null,
      "metadata": {
        "id": "e0eDK_o8y9f-",
        "colab": {
          "base_uri": "https://localhost:8080/"
        },
        "outputId": "8239e95a-c663-4ae4-9d1f-ef5cb6e29598"
      },
      "outputs": [
        {
          "output_type": "execute_result",
          "data": {
            "text/plain": [
              "array([[1., 0., 0., 0., 0.],\n",
              "       [1., 1., 0., 0., 0.],\n",
              "       [0., 2., 1., 0., 0.],\n",
              "       [0., 0., 3., 1., 0.],\n",
              "       [0., 0., 0., 4., 1.]])"
            ]
          },
          "metadata": {},
          "execution_count": 49
        }
      ],
      "source": [
        "z=np.eye(5,5)\n",
        "y=np.diag([1,2,3,4])\n",
        "y=np.insert(y,4,np.zeros(y.shape[1]),axis=1)\n",
        "y=np.insert(y,0,np.zeros(z.shape[0]),axis=0)\n",
        "z+y"
      ]
    },
    {
      "cell_type": "code",
      "source": [
        "z=np.eye(5,5)\n",
        "l=[1,2,3,4]\n",
        "for i in range(1,5):\n",
        "    z[i][i-1]=l[i-1]\n",
        "z\n",
        "       "
      ],
      "metadata": {
        "colab": {
          "base_uri": "https://localhost:8080/"
        },
        "id": "XYFFnicPBXHS",
        "outputId": "31e4d0ce-b0b0-459b-8096-1ad149d1db4d"
      },
      "execution_count": null,
      "outputs": [
        {
          "output_type": "execute_result",
          "data": {
            "text/plain": [
              "array([[1., 0., 0., 0., 0.],\n",
              "       [1., 1., 0., 0., 0.],\n",
              "       [0., 2., 1., 0., 0.],\n",
              "       [0., 0., 3., 1., 0.],\n",
              "       [0., 0., 0., 4., 1.]])"
            ]
          },
          "metadata": {},
          "execution_count": 55
        }
      ]
    },
    {
      "cell_type": "markdown",
      "metadata": {
        "id": "Pm_ySdqAy9f-"
      },
      "source": [
        "#### 19. Create a 8x8 matrix and fill it with a checkerboard pattern (★☆☆) \n",
        "(**hint**: array\\[::2\\])"
      ]
    },
    {
      "cell_type": "code",
      "execution_count": null,
      "metadata": {
        "id": "oUQV4pcEy9f-",
        "colab": {
          "base_uri": "https://localhost:8080/"
        },
        "outputId": "ae0a6c1e-4cc9-432d-f0d5-ce57d8679035"
      },
      "outputs": [
        {
          "output_type": "execute_result",
          "data": {
            "text/plain": [
              "array([[1., 0., 1., 0., 1., 0., 1., 0.],\n",
              "       [0., 1., 0., 1., 0., 1., 0., 1.],\n",
              "       [1., 0., 1., 0., 1., 0., 1., 0.],\n",
              "       [0., 1., 0., 1., 0., 1., 0., 1.],\n",
              "       [1., 0., 1., 0., 1., 0., 1., 0.],\n",
              "       [0., 1., 0., 1., 0., 1., 0., 1.],\n",
              "       [1., 0., 1., 0., 1., 0., 1., 0.],\n",
              "       [0., 1., 0., 1., 0., 1., 0., 1.]])"
            ]
          },
          "metadata": {},
          "execution_count": 28
        }
      ],
      "source": [
        "z=np.zeros(64).reshape(8,8)\n",
        "z[::2,::2]=1\n",
        "z[1::2,1::2]=1\n",
        "z"
      ]
    },
    {
      "cell_type": "markdown",
      "metadata": {
        "id": "p5VahdZHy9f_"
      },
      "source": [
        "#### 20. Consider a (6,7,8) shape array, what is the index (x,y,z) of the 100th element? \n",
        "(**hint**: np.unravel_index)"
      ]
    },
    {
      "cell_type": "code",
      "execution_count": null,
      "metadata": {
        "id": "HfTzbQUKy9f_",
        "colab": {
          "base_uri": "https://localhost:8080/"
        },
        "outputId": "224c6231-6456-4f2d-ef66-9ea8bac85b38"
      },
      "outputs": [
        {
          "output_type": "execute_result",
          "data": {
            "text/plain": [
              "(1, 5, 4)"
            ]
          },
          "metadata": {},
          "execution_count": 34
        }
      ],
      "source": [
        "x=np.arange(336).reshape(6,7,8)\n",
        "np.unravel_index(100,(6,7,8))\n"
      ]
    },
    {
      "cell_type": "markdown",
      "metadata": {
        "id": "qCrRI-O4y9gA"
      },
      "source": [
        "#### 21. Create a checkerboard 8x8 matrix using the tile function (★☆☆) \n",
        "(**hint**: np.tile)"
      ]
    },
    {
      "cell_type": "code",
      "execution_count": null,
      "metadata": {
        "id": "hvGSfWn9y9gA",
        "colab": {
          "base_uri": "https://localhost:8080/"
        },
        "outputId": "9a1c1854-b432-4ec1-edd3-2756a2a8c72a"
      },
      "outputs": [
        {
          "output_type": "execute_result",
          "data": {
            "text/plain": [
              "array([[1, 0, 1, 0, 1, 0, 1, 0],\n",
              "       [0, 1, 0, 1, 0, 1, 0, 1],\n",
              "       [1, 0, 1, 0, 1, 0, 1, 0],\n",
              "       [0, 1, 0, 1, 0, 1, 0, 1],\n",
              "       [1, 0, 1, 0, 1, 0, 1, 0],\n",
              "       [0, 1, 0, 1, 0, 1, 0, 1],\n",
              "       [1, 0, 1, 0, 1, 0, 1, 0],\n",
              "       [0, 1, 0, 1, 0, 1, 0, 1]])"
            ]
          },
          "metadata": {},
          "execution_count": 8
        }
      ],
      "source": [
        "x=np.tile(np.array([[1,0],[0,1]]),[4,4])\n",
        "x"
      ]
    },
    {
      "cell_type": "markdown",
      "metadata": {
        "id": "p9gFNtqEy9gB"
      },
      "source": [
        "#### 22. Normalize a 5x5 random matrix (★☆☆) \n",
        "(**hint**: (x - min) / (max - min))"
      ]
    },
    {
      "cell_type": "code",
      "execution_count": null,
      "metadata": {
        "id": "rwgRn0v2y9gB",
        "colab": {
          "base_uri": "https://localhost:8080/"
        },
        "outputId": "46fd6fe6-e5cf-42f1-cfc6-5cc3742aab1d"
      },
      "outputs": [
        {
          "output_type": "execute_result",
          "data": {
            "text/plain": [
              "array([[0.67270698, 0.4971482 , 0.32479632, 0.5245935 , 0.25610408],\n",
              "       [0.65749512, 1.        , 0.21629853, 0.85184571, 0.14300657],\n",
              "       [0.88006752, 0.53160128, 0.63795772, 0.98649302, 0.72333644],\n",
              "       [0.37973478, 0.32355697, 0.27013177, 0.21974537, 0.03031004],\n",
              "       [0.35540862, 0.        , 0.10648962, 0.33095966, 0.74093842]])"
            ]
          },
          "metadata": {},
          "execution_count": 16
        }
      ],
      "source": [
        "df=np.random.random((5,5))\n",
        "dfmin,dfmax=df.min(),df.max()\n",
        "df=(df-dfmin)/(dfmax-dfmin)\n",
        "df"
      ]
    },
    {
      "cell_type": "markdown",
      "metadata": {
        "id": "JzXmGdJRy9gE"
      },
      "source": [
        "#### 23. Create a custom dtype that describes a color as four unsigned bytes (RGBA) (★☆☆) \n",
        "(**hint**: np.dtype)"
      ]
    },
    {
      "cell_type": "code",
      "execution_count": null,
      "metadata": {
        "collapsed": true,
        "id": "bL2du3Dqy9gF"
      },
      "outputs": [],
      "source": [
        "color = np.dtype([(\"r\", np.ubyte, 1),\n",
        "                  (\"g\", np.ubyte, 1),\n",
        "                  (\"b\", np.ubyte, 1),\n",
        "                  (\"a\", np.ubyte, 1)])"
      ]
    },
    {
      "cell_type": "markdown",
      "metadata": {
        "id": "1Tml2XQ5y9gF"
      },
      "source": [
        "#### 24. Multiply a 5x3 matrix by a 3x2 matrix (real matrix product) (★☆☆) \n",
        "(**hint**: np.dot | @)"
      ]
    },
    {
      "cell_type": "code",
      "execution_count": null,
      "metadata": {
        "id": "Ygrl_mL0y9gG",
        "colab": {
          "base_uri": "https://localhost:8080/"
        },
        "outputId": "a2edd384-4aed-4f11-beca-33d81484940c"
      },
      "outputs": [
        {
          "output_type": "execute_result",
          "data": {
            "text/plain": [
              "array([[105,  42],\n",
              "       [145,  52],\n",
              "       [154,  74],\n",
              "       [115,  38],\n",
              "       [124,  50]])"
            ]
          },
          "metadata": {},
          "execution_count": 22
        }
      ],
      "source": [
        "mat1=np.random.randint(2,10,(5,3))\n",
        "mat2=np.random.randint(2,10,(3,2))\n",
        "x=np.dot(mat1,mat2)\n",
        "x"
      ]
    },
    {
      "cell_type": "markdown",
      "metadata": {
        "id": "5-ER1bTTy9gG"
      },
      "source": [
        "#### 25. Given a 1D array, negate all elements which are between 3 and 8, in place. (★☆☆) \n",
        "(**hint**: >, <=)"
      ]
    },
    {
      "cell_type": "code",
      "execution_count": null,
      "metadata": {
        "id": "9i-001juy9gH",
        "colab": {
          "base_uri": "https://localhost:8080/"
        },
        "outputId": "27936b8c-7d09-4226-f83f-a4384393ba6d"
      },
      "outputs": [
        {
          "output_type": "execute_result",
          "data": {
            "text/plain": [
              "array([ 0,  1,  2,  3, -4, -5, -6, -7, -8,  9, 10, 11, 12, 13, 14])"
            ]
          },
          "metadata": {},
          "execution_count": 30
        }
      ],
      "source": [
        "x=np.arange(15)\n",
        "x[(x>3) & (x<=8)]*=-1\n",
        "x\n"
      ]
    },
    {
      "cell_type": "markdown",
      "metadata": {
        "id": "KyTprS5Wy9gH"
      },
      "source": [
        "#### 26. What is the output of the following script? (★☆☆) \n",
        "(**hint**: np.sum)"
      ]
    },
    {
      "cell_type": "markdown",
      "metadata": {
        "id": "RBZj2i4jy9gI"
      },
      "source": [
        "```python\n",
        "# Author: Jake VanderPlas\n",
        "\n",
        "print(sum(range(5),-1))\n",
        "from numpy import *\n",
        "print(sum(range(5),-1))\n",
        "```"
      ]
    },
    {
      "cell_type": "code",
      "execution_count": null,
      "metadata": {
        "id": "rNc-Gxjgy9gJ",
        "colab": {
          "base_uri": "https://localhost:8080/"
        },
        "outputId": "09e138aa-4cf1-4ae8-d186-8b61d535cad0"
      },
      "outputs": [
        {
          "output_type": "stream",
          "name": "stdout",
          "text": [
            "9\n",
            "10\n"
          ]
        }
      ],
      "source": [
        "\n",
        "print(sum(range(5),-1))\n",
        "from numpy import *\n",
        "print(sum(range(5),-1))"
      ]
    },
    {
      "cell_type": "markdown",
      "metadata": {
        "id": "K08SnkU9y9gK"
      },
      "source": [
        "#### 27. Consider an integer vector Z, which of these expressions are legal? (★☆☆)"
      ]
    },
    {
      "cell_type": "markdown",
      "metadata": {
        "id": "JeQyRlEAy9gK"
      },
      "source": [
        "```python\n",
        "Z**Z\n",
        "2 << Z >> 2\n",
        "Z <- Z\n",
        "1j*Z\n",
        "Z/1/1\n",
        "Z<Z>Z#its not legal\n",
        "```"
      ]
    },
    {
      "cell_type": "code",
      "source": [
        "Z=np.arange(12).reshape(3,4)\n",
        "print(Z)\n",
        "print(Z**Z)\n",
        "print(2 << Z >> 2)\n",
        "print(Z<-Z)\n",
        "print(1j*Z)\n",
        "print(Z/1/1)"
      ],
      "metadata": {
        "colab": {
          "base_uri": "https://localhost:8080/"
        },
        "id": "BHPZdyS94_4P",
        "outputId": "da1aee70-8c86-4f16-cf90-291fb24d7822"
      },
      "execution_count": null,
      "outputs": [
        {
          "output_type": "stream",
          "name": "stdout",
          "text": [
            "[[ 0  1  2  3]\n",
            " [ 4  5  6  7]\n",
            " [ 8  9 10 11]]\n",
            "[[           1            1            4           27]\n",
            " [         256         3125        46656       823543]\n",
            " [    16777216    387420489  10000000000 285311670611]]\n",
            "[[   0    1    2    4]\n",
            " [   8   16   32   64]\n",
            " [ 128  256  512 1024]]\n",
            "[[False False False False]\n",
            " [False False False False]\n",
            " [False False False False]]\n",
            "[[0. +0.j 0. +1.j 0. +2.j 0. +3.j]\n",
            " [0. +4.j 0. +5.j 0. +6.j 0. +7.j]\n",
            " [0. +8.j 0. +9.j 0.+10.j 0.+11.j]]\n",
            "[[ 0.  1.  2.  3.]\n",
            " [ 4.  5.  6.  7.]\n",
            " [ 8.  9. 10. 11.]]\n"
          ]
        }
      ]
    },
    {
      "cell_type": "markdown",
      "metadata": {
        "id": "N43FHSToy9gM"
      },
      "source": [
        "#### 28. What are the result of the following expressions?"
      ]
    },
    {
      "cell_type": "markdown",
      "metadata": {
        "id": "vLAaWBByy9gM"
      },
      "source": [
        "```python\n",
        "np.array(0) / np.array(0)\n",
        "np.array(0) // np.array(0)\n",
        "np.array([np.nan]).astype(int).astype(float)\n",
        "```"
      ]
    },
    {
      "cell_type": "code",
      "execution_count": null,
      "metadata": {
        "id": "lOqVa0tvy9gN",
        "colab": {
          "base_uri": "https://localhost:8080/"
        },
        "outputId": "c057d863-72a9-4015-bf3c-999a5388ebdb"
      },
      "outputs": [
        {
          "output_type": "stream",
          "name": "stdout",
          "text": [
            "nan\n",
            "0\n",
            "[-9.22337204e+18]\n"
          ]
        },
        {
          "output_type": "stream",
          "name": "stderr",
          "text": [
            "/usr/local/lib/python3.7/dist-packages/ipykernel_launcher.py:1: RuntimeWarning: invalid value encountered in true_divide\n",
            "  \"\"\"Entry point for launching an IPython kernel.\n",
            "/usr/local/lib/python3.7/dist-packages/ipykernel_launcher.py:2: RuntimeWarning: divide by zero encountered in floor_divide\n",
            "  \n"
          ]
        }
      ],
      "source": [
        "print(np.array(0)/ np.array(0))\n",
        "print(np.array(0) // np.array(0))\n",
        "print(np.array([np.nan]).astype(int).astype(float))"
      ]
    },
    {
      "cell_type": "markdown",
      "metadata": {
        "id": "xPntkXCqy9gN"
      },
      "source": [
        "#### 29. How to round away from zero a float array ? (★☆☆) \n",
        "(**hint**: np.uniform, np.copysign, np.ceil, np.abs)"
      ]
    },
    {
      "cell_type": "code",
      "execution_count": null,
      "metadata": {
        "id": "Whfhriu5y9gN",
        "colab": {
          "base_uri": "https://localhost:8080/"
        },
        "outputId": "b2ff45aa-2bd2-4c94-e181-939eb3d25c19"
      },
      "outputs": [
        {
          "output_type": "execute_result",
          "data": {
            "text/plain": [
              "array([  3.,   2.,  -4.,  -4., -10.,   7.,   4.,  10.,  -6.,  -1.])"
            ]
          },
          "metadata": {},
          "execution_count": 59
        }
      ],
      "source": [
        "x = np.random.uniform(-10, +10, 10)\n",
        "np.copysign(np.ceil(np.abs(x)),x)"
      ]
    },
    {
      "cell_type": "markdown",
      "metadata": {
        "id": "5JJMD47my9gN"
      },
      "source": [
        "#### 30. How to find common values between two arrays? (★☆☆) \n",
        "(**hint**: np.intersect1d)"
      ]
    },
    {
      "cell_type": "code",
      "execution_count": null,
      "metadata": {
        "id": "AYreaEFly9gO",
        "colab": {
          "base_uri": "https://localhost:8080/"
        },
        "outputId": "6f694208-4edf-47b6-bdf2-0f5f0e3a0c12"
      },
      "outputs": [
        {
          "output_type": "execute_result",
          "data": {
            "text/plain": [
              "array([ 8,  9, 10, 11])"
            ]
          },
          "metadata": {},
          "execution_count": 65
        }
      ],
      "source": [
        "x=np.arange(0,12)\n",
        "Y=np.arange(8,15)\n",
        "Z=np.intersect1d(x,Y)\n",
        "Z"
      ]
    },
    {
      "cell_type": "markdown",
      "metadata": {
        "id": "OhhWCMWhy9gO"
      },
      "source": [
        "#### 31. How to ignore all numpy warnings (not recommended)? (★☆☆) \n",
        "(**hint**: np.seterr, np.errstate)"
      ]
    },
    {
      "cell_type": "code",
      "execution_count": null,
      "metadata": {
        "id": "KdFwAQ5Oy9gO",
        "colab": {
          "base_uri": "https://localhost:8080/"
        },
        "outputId": "15da2233-5694-4de6-d3a2-7cb1a4d36e4e"
      },
      "outputs": [
        {
          "output_type": "stream",
          "name": "stderr",
          "text": [
            "/usr/local/lib/python3.7/dist-packages/ipykernel_launcher.py:4: RuntimeWarning: divide by zero encountered in true_divide\n",
            "  after removing the cwd from sys.path.\n"
          ]
        }
      ],
      "source": [
        "np.seterr(all='ignore')\n",
        "X=np.arange(3)/0\n",
        "with np.errstate(divide='warn'):\n",
        "     X=np.arange(3)/0"
      ]
    },
    {
      "cell_type": "markdown",
      "metadata": {
        "id": "nJr9mKAKy9gP"
      },
      "source": [
        "#### 32. Is the following expressions true? (★☆☆) \n",
        "(**hint**: imaginary number)"
      ]
    },
    {
      "cell_type": "markdown",
      "metadata": {
        "id": "j6k21TX_y9gP"
      },
      "source": [
        "```python\n",
        "np.sqrt(-1) == np.emath.sqrt(-1)\n",
        "```"
      ]
    },
    {
      "cell_type": "code",
      "execution_count": null,
      "metadata": {
        "id": "ReWhJlw1y9gQ",
        "colab": {
          "base_uri": "https://localhost:8080/"
        },
        "outputId": "db3b1e77-4ef3-433f-db02-7649d4c6fcf4"
      },
      "outputs": [
        {
          "output_type": "execute_result",
          "data": {
            "text/plain": [
              "False"
            ]
          },
          "metadata": {},
          "execution_count": 27
        }
      ],
      "source": [
        "np.sqrt(-1) == np.emath.sqrt(-1)"
      ]
    },
    {
      "cell_type": "markdown",
      "metadata": {
        "id": "VqFhrvuFy9gQ"
      },
      "source": [
        "#### 33. How to get the dates of yesterday, today and tomorrow? (★☆☆) \n",
        "(**hint**: np.datetime64, np.timedelta64)"
      ]
    },
    {
      "cell_type": "code",
      "execution_count": null,
      "metadata": {
        "id": "zOssXsDTy9gR",
        "colab": {
          "base_uri": "https://localhost:8080/"
        },
        "outputId": "773a9724-c2af-4319-c7bd-78afbac65744"
      },
      "outputs": [
        {
          "output_type": "stream",
          "name": "stdout",
          "text": [
            "Today :  2022-10-29\n",
            "Yesterday :  2022-10-28\n",
            "Tomorrow :  2022-10-30\n"
          ]
        }
      ],
      "source": [
        "Today=np.datetime64('today','D')\n",
        "print('Today : ',Today)\n",
        "Yesterday=np.datetime64('today','D')-np.timedelta64(1,'D')\n",
        "print('Yesterday : ',Yesterday)\n",
        "Tomorrow=np.datetime64('today','D')+np.timedelta64(1,'D')\n",
        "print('Tomorrow : ',Tomorrow)"
      ]
    },
    {
      "cell_type": "markdown",
      "metadata": {
        "id": "4Ct9F4bVy9gR"
      },
      "source": [
        "#### 34. How to get all the dates corresponding to the month of July 2016? (★★☆) \n",
        "(**hint**: np.arange(dtype=datetime64\\['D'\\]))"
      ]
    },
    {
      "cell_type": "code",
      "execution_count": null,
      "metadata": {
        "id": "apIDH4PKy9gS",
        "colab": {
          "base_uri": "https://localhost:8080/"
        },
        "outputId": "2e682e33-0cdd-48e1-dadb-b80220ddca50"
      },
      "outputs": [
        {
          "output_type": "execute_result",
          "data": {
            "text/plain": [
              "array(['2016-07-01', '2016-07-02', '2016-07-03', '2016-07-04',\n",
              "       '2016-07-05', '2016-07-06', '2016-07-07', '2016-07-08',\n",
              "       '2016-07-09', '2016-07-10', '2016-07-11', '2016-07-12',\n",
              "       '2016-07-13', '2016-07-14', '2016-07-15', '2016-07-16',\n",
              "       '2016-07-17', '2016-07-18', '2016-07-19', '2016-07-20',\n",
              "       '2016-07-21', '2016-07-22', '2016-07-23', '2016-07-24',\n",
              "       '2016-07-25', '2016-07-26', '2016-07-27', '2016-07-28',\n",
              "       '2016-07-29', '2016-07-30', '2016-07-31'], dtype='datetime64[D]')"
            ]
          },
          "metadata": {},
          "execution_count": 42
        }
      ],
      "source": [
        "X=np.arange('2016-07','2016-08',dtype='datetime64[D]')\n",
        "X"
      ]
    },
    {
      "cell_type": "markdown",
      "metadata": {
        "id": "mY4loep7y9gS"
      },
      "source": [
        "#### 35. How to compute ((A+B)\\*(-A/2)) in place (without copy)? (★★☆) \n",
        "(**hint**: np.add(out=), np.negative(out=), np.multiply(out=), np.divide(out=))"
      ]
    },
    {
      "cell_type": "code",
      "execution_count": null,
      "metadata": {
        "id": "6XaHY9tWy9gT",
        "colab": {
          "base_uri": "https://localhost:8080/"
        },
        "outputId": "ad4c3457-b8f4-46c9-b4b7-6b54071edc83"
      },
      "outputs": [
        {
          "output_type": "execute_result",
          "data": {
            "text/plain": [
              "array([-1., -1., -1., -1., -1.])"
            ]
          },
          "metadata": {},
          "execution_count": 46
        }
      ],
      "source": [
        "A=np.ones(5)\n",
        "B=np.ones(5)\n",
        "np.add(A,B,out=B)\n",
        "np.divide(A,2,out=A)\n",
        "np.negative(A,out=A)\n",
        "np.multiply(B,A,out=A)"
      ]
    },
    {
      "cell_type": "markdown",
      "metadata": {
        "id": "3j3LzBCxy9gT"
      },
      "source": [
        "#### 36. Extract the integer part of a random array using 5 different methods (★★☆) \n",
        "(**hint**: %, np.floor, np.ceil, astype, np.trunc)"
      ]
    },
    {
      "cell_type": "code",
      "execution_count": null,
      "metadata": {
        "id": "Q1jBPCB-y9gU",
        "colab": {
          "base_uri": "https://localhost:8080/"
        },
        "outputId": "72097b3f-2c2d-4a5d-8abc-99fc35c2d4c0"
      },
      "outputs": [
        {
          "output_type": "stream",
          "name": "stdout",
          "text": [
            "[ 2.33071366  1.60046565  1.25911799  6.1365185   1.02531014 11.43944237\n",
            "  4.87306495  4.07481817  5.4414493   9.41807834]\n",
            "[ 2.  1.  1.  6.  1. 11.  4.  4.  5.  9.]\n",
            "[ 2.  1.  1.  6.  1. 11.  4.  4.  5.  9.]\n",
            "[ 2.  1.  1.  6.  1. 11.  4.  4.  5.  9.]\n",
            "[ 2  1  1  6  1 11  4  4  5  9]\n",
            "[ 2.  1.  1.  6.  1. 11.  4.  4.  5.  9.]\n"
          ]
        }
      ],
      "source": [
        "X=np.random.uniform(0,12,10)\n",
        "print(X)\n",
        "print(X-(X%1))\n",
        "print(np.floor(X))\n",
        "print(np.ceil(X)-1)\n",
        "print(X.astype(int))\n",
        "print(np.trunc(X))"
      ]
    },
    {
      "cell_type": "markdown",
      "metadata": {
        "id": "lkbZ1do6y9gU"
      },
      "source": [
        "#### 37. Create a 5x5 matrix with row values ranging from 0 to 4 (★★☆) \n",
        "(**hint**: np.arange)"
      ]
    },
    {
      "cell_type": "code",
      "execution_count": null,
      "metadata": {
        "id": "cYzIg8wky9gV",
        "colab": {
          "base_uri": "https://localhost:8080/"
        },
        "outputId": "5656ddaa-086f-4cea-a588-7cc6f23fdac3"
      },
      "outputs": [
        {
          "output_type": "execute_result",
          "data": {
            "text/plain": [
              "array([[0., 1., 2., 3., 4.],\n",
              "       [0., 1., 2., 3., 4.],\n",
              "       [0., 1., 2., 3., 4.],\n",
              "       [0., 1., 2., 3., 4.],\n",
              "       [0., 1., 2., 3., 4.]])"
            ]
          },
          "metadata": {},
          "execution_count": 64
        }
      ],
      "source": [
        "Z=np.zeros((5,5))\n",
        "Z+=np.arange(0,5)\n",
        "Z"
      ]
    },
    {
      "cell_type": "markdown",
      "metadata": {
        "id": "SfOtbuFzy9gV"
      },
      "source": [
        "#### 38. Consider a generator function that generates 10 integers and use it to build an array (★☆☆) \n",
        "(**hint**: np.fromiter)"
      ]
    },
    {
      "cell_type": "code",
      "execution_count": null,
      "metadata": {
        "id": "l49fzntky9gW",
        "colab": {
          "base_uri": "https://localhost:8080/"
        },
        "outputId": "8fcf1107-6824-4f33-8a08-a1870f827f37"
      },
      "outputs": [
        {
          "output_type": "execute_result",
          "data": {
            "text/plain": [
              "array([0, 1, 2, 3, 4, 5, 6, 7, 8, 9])"
            ]
          },
          "metadata": {},
          "execution_count": 22
        }
      ],
      "source": [
        "def generate():\n",
        "     for x in range(10):\n",
        "         yield x\n",
        "\n",
        "z=np.fromiter(generate(),dtype=int,count=-1)\n",
        "z"
      ]
    },
    {
      "cell_type": "markdown",
      "metadata": {
        "id": "efcS5BKmy9gX"
      },
      "source": [
        "#### 39. Create a vector of size 10 with values ranging from 0 to 1, both excluded (★★☆) \n",
        "(**hint**: np.linspace)"
      ]
    },
    {
      "cell_type": "code",
      "execution_count": null,
      "metadata": {
        "id": "cct2n1-5y9gX",
        "colab": {
          "base_uri": "https://localhost:8080/"
        },
        "outputId": "f21a4b22-74d9-4543-c6ca-72c338907a4a"
      },
      "outputs": [
        {
          "output_type": "stream",
          "name": "stdout",
          "text": [
            "[0.09090909 0.18181818 0.27272727 0.36363636 0.45454545 0.54545455\n",
            " 0.63636364 0.72727273 0.81818182 0.90909091]\n"
          ]
        }
      ],
      "source": [
        "Z = np.linspace(0,1,11,endpoint=False)[1:]\n",
        "print(Z)"
      ]
    },
    {
      "cell_type": "markdown",
      "metadata": {
        "id": "oAWXtUIOy9gX"
      },
      "source": [
        "#### 40. Create a random vector of size 10 and sort it (★★☆) \n",
        "(**hint**: sort)"
      ]
    },
    {
      "cell_type": "code",
      "execution_count": null,
      "metadata": {
        "id": "B4y-tLtYy9gY",
        "colab": {
          "base_uri": "https://localhost:8080/"
        },
        "outputId": "1a21d358-a610-414c-ade4-bc9c158c65ae"
      },
      "outputs": [
        {
          "output_type": "stream",
          "name": "stdout",
          "text": [
            "[66 40 53 31 32 47 46 64 72 39]\n"
          ]
        },
        {
          "output_type": "execute_result",
          "data": {
            "text/plain": [
              "array([31, 32, 39, 40, 46, 47, 53, 64, 66, 72])"
            ]
          },
          "metadata": {},
          "execution_count": 41
        }
      ],
      "source": [
        "x=np.random.randint(23,78,10)\n",
        "print(x)\n",
        "np.sort(x)"
      ]
    },
    {
      "cell_type": "markdown",
      "metadata": {
        "id": "SBMA1Om0y9gY"
      },
      "source": [
        "#### 41. How to sum a small array faster than np.sum? (★★☆) \n",
        "(**hint**: np.add.reduce)"
      ]
    },
    {
      "cell_type": "code",
      "source": [
        "import time\n",
        "\n",
        "begin_time = time.time()\n",
        "x = np.arange(1000000)\n",
        "np.sum(x)\n",
        "end_time = time.time()\n",
        "print(str(1000*(end_time - begin_time)))\n",
        "\n",
        "begin_time2 = time.time()\n",
        "x = np.arange(1000000)\n",
        "np.add.reduce(x)\n",
        "end_time2 = time.time()\n",
        "print(str(1000*(end_time2 - begin_time2)))"
      ],
      "metadata": {
        "colab": {
          "base_uri": "https://localhost:8080/"
        },
        "id": "sA7-Yfqb8kV6",
        "outputId": "9beb4766-c9a0-41ef-c79c-5e1e26c3114d"
      },
      "execution_count": null,
      "outputs": [
        {
          "output_type": "stream",
          "name": "stdout",
          "text": [
            "6.109952926635742\n",
            "2.4023056030273438\n"
          ]
        }
      ]
    },
    {
      "cell_type": "markdown",
      "metadata": {
        "id": "jh9VkGdky9ga"
      },
      "source": [
        "#### 42. Consider two random array A and B, check if they are equal (★★☆) \n",
        "(**hint**: np.allclose, np.array\\_equal)"
      ]
    },
    {
      "cell_type": "code",
      "execution_count": null,
      "metadata": {
        "id": "mtA5gc48y9gb",
        "colab": {
          "base_uri": "https://localhost:8080/"
        },
        "outputId": "fb019c22-06c0-4b5f-e706-ef4b6a2cba9f"
      },
      "outputs": [
        {
          "output_type": "stream",
          "name": "stdout",
          "text": [
            "False\n",
            "False\n"
          ]
        }
      ],
      "source": [
        "x=np.random.randint(0,2,5)\n",
        "y=np.random.randint(0,2,5)\n",
        "z=np.array_equal(x,y)\n",
        "print(z)\n",
        "z=np.allclose(x,y)\n",
        "print(z)"
      ]
    },
    {
      "cell_type": "markdown",
      "metadata": {
        "id": "AqPTrpAny9gb"
      },
      "source": [
        "#### 43. Make an array immutable (read-only) (★★☆) \n",
        "(**hint**: flags.writeable)"
      ]
    },
    {
      "cell_type": "code",
      "execution_count": null,
      "metadata": {
        "id": "M-Tzywyhy9gb",
        "colab": {
          "base_uri": "https://localhost:8080/",
          "height": 200
        },
        "outputId": "f5abc02f-ebac-4b68-b1ff-2f3f3c24d6ab"
      },
      "outputs": [
        {
          "output_type": "error",
          "ename": "ValueError",
          "evalue": "ignored",
          "traceback": [
            "\u001b[0;31m---------------------------------------------------------------------------\u001b[0m",
            "\u001b[0;31mValueError\u001b[0m                                Traceback (most recent call last)",
            "\u001b[0;32m<ipython-input-51-58d61cb12d78>\u001b[0m in \u001b[0;36m<module>\u001b[0;34m\u001b[0m\n\u001b[1;32m      1\u001b[0m \u001b[0mx\u001b[0m\u001b[0;34m=\u001b[0m\u001b[0mnp\u001b[0m\u001b[0;34m.\u001b[0m\u001b[0mrandom\u001b[0m\u001b[0;34m.\u001b[0m\u001b[0mrandint\u001b[0m\u001b[0;34m(\u001b[0m\u001b[0;36m12\u001b[0m\u001b[0;34m,\u001b[0m\u001b[0;36m34\u001b[0m\u001b[0;34m,\u001b[0m\u001b[0;36m10\u001b[0m\u001b[0;34m)\u001b[0m\u001b[0;34m\u001b[0m\u001b[0;34m\u001b[0m\u001b[0m\n\u001b[1;32m      2\u001b[0m \u001b[0mx\u001b[0m\u001b[0;34m.\u001b[0m\u001b[0mflags\u001b[0m\u001b[0;34m.\u001b[0m\u001b[0mwriteable\u001b[0m\u001b[0;34m=\u001b[0m\u001b[0;32mFalse\u001b[0m\u001b[0;34m\u001b[0m\u001b[0;34m\u001b[0m\u001b[0m\n\u001b[0;32m----> 3\u001b[0;31m \u001b[0mx\u001b[0m\u001b[0;34m[\u001b[0m\u001b[0;36m1\u001b[0m\u001b[0;34m]\u001b[0m\u001b[0;34m=\u001b[0m\u001b[0;36m2\u001b[0m\u001b[0;34m\u001b[0m\u001b[0;34m\u001b[0m\u001b[0m\n\u001b[0m",
            "\u001b[0;31mValueError\u001b[0m: assignment destination is read-only"
          ]
        }
      ],
      "source": [
        "x=np.random.randint(12,34,10)\n",
        "x.flags.writeable=False\n",
        "x[1]=2"
      ]
    },
    {
      "cell_type": "markdown",
      "metadata": {
        "id": "w7H4ioPmy9gc"
      },
      "source": [
        "#### 44. Consider a random 10x2 matrix representing cartesian coordinates, convert them to polar coordinates (★★☆) \n",
        "(**hint**: np.sqrt, np.arctan2)"
      ]
    },
    {
      "cell_type": "code",
      "execution_count": null,
      "metadata": {
        "id": "3fjgaPbJy9gc",
        "colab": {
          "base_uri": "https://localhost:8080/"
        },
        "outputId": "caeb32e1-82c3-4786-dec0-3e5bfebbd798"
      },
      "outputs": [
        {
          "output_type": "stream",
          "name": "stdout",
          "text": [
            "[0.33271538 0.86190966 0.93484312 1.06813319 0.93144539 0.41288061\n",
            " 1.10067602 0.84576148 0.60784351 0.45615752]\n",
            "[1.46687412 0.22617294 0.0889319  0.4386193  1.54897859 0.19727577\n",
            " 0.58988427 1.36895186 0.98613637 1.11386448]\n"
          ]
        }
      ],
      "source": [
        "z=np.random.random((10,2))\n",
        "x,y=z[:,0],z[:,1]\n",
        "r=np.sqrt(x**2+y**2)\n",
        "t=np.arctan2(y,x)\n",
        "print(r)\n",
        "print(t)"
      ]
    },
    {
      "cell_type": "markdown",
      "metadata": {
        "id": "2D5igKZ9y9gc"
      },
      "source": [
        "#### 45. Create random vector of size 10 and replace the maximum value by 0 (★★☆) \n",
        "(**hint**: argmax)"
      ]
    },
    {
      "cell_type": "code",
      "execution_count": null,
      "metadata": {
        "id": "LIia8Qnby9gd",
        "colab": {
          "base_uri": "https://localhost:8080/"
        },
        "outputId": "cddf060a-9e17-4f8c-bf84-e068ef7d4e48"
      },
      "outputs": [
        {
          "output_type": "stream",
          "name": "stdout",
          "text": [
            "[0.88667214 0.60713023 0.01819695 0.97506268 0.87297017 0.55157839\n",
            " 0.44370854 0.51649072 0.59975342 0.64222382]\n"
          ]
        },
        {
          "output_type": "execute_result",
          "data": {
            "text/plain": [
              "array([0.88667214, 0.60713023, 0.01819695, 0.        , 0.87297017,\n",
              "       0.55157839, 0.44370854, 0.51649072, 0.59975342, 0.64222382])"
            ]
          },
          "metadata": {},
          "execution_count": 58
        }
      ],
      "source": [
        "x=np.random.random(10)\n",
        "print(x)\n",
        "t=np.argmax(x)\n",
        "x[t]=0\n",
        "x"
      ]
    },
    {
      "cell_type": "markdown",
      "metadata": {
        "id": "1PdBsuGAy9gd"
      },
      "source": [
        "#### 46. Create a structured array with `x` and `y` coordinates covering the \\[0,1\\]x\\[0,1\\] area (★★☆) \n",
        "(**hint**: np.meshgrid)"
      ]
    },
    {
      "cell_type": "code",
      "execution_count": null,
      "metadata": {
        "id": "1vUdXFKiy9gd",
        "colab": {
          "base_uri": "https://localhost:8080/"
        },
        "outputId": "2d04f384-3896-47e4-fd39-341f7bc44300"
      },
      "outputs": [
        {
          "output_type": "stream",
          "name": "stdout",
          "text": [
            "[[(0.  , 0.  ) (0.25, 0.  ) (0.5 , 0.  ) (0.75, 0.  ) (1.  , 0.  )]\n",
            " [(0.  , 0.25) (0.25, 0.25) (0.5 , 0.25) (0.75, 0.25) (1.  , 0.25)]\n",
            " [(0.  , 0.5 ) (0.25, 0.5 ) (0.5 , 0.5 ) (0.75, 0.5 ) (1.  , 0.5 )]\n",
            " [(0.  , 0.75) (0.25, 0.75) (0.5 , 0.75) (0.75, 0.75) (1.  , 0.75)]\n",
            " [(0.  , 1.  ) (0.25, 1.  ) (0.5 , 1.  ) (0.75, 1.  ) (1.  , 1.  )]]\n"
          ]
        }
      ],
      "source": [
        "Z = np.zeros((5,5), [('x',float),('y',float)])\n",
        "Z['x'],Z['y']=np.meshgrid(np.linspace(0,1,5),np.linspace(0,1,5))\n",
        "print(Z)"
      ]
    },
    {
      "cell_type": "markdown",
      "metadata": {
        "id": "5_iO-h1Ry9ge"
      },
      "source": [
        "####  47. Given two arrays, X and Y, construct the Cauchy matrix C (Cij =1/(xi - yj)) \n",
        "(**hint**: np.subtract.outer)"
      ]
    },
    {
      "cell_type": "code",
      "execution_count": null,
      "metadata": {
        "id": "90SB3Mjmy9ge",
        "colab": {
          "base_uri": "https://localhost:8080/"
        },
        "outputId": "8bdbd304-22ae-4925-fa67-c1b9a2a7eac2"
      },
      "outputs": [
        {
          "output_type": "stream",
          "name": "stdout",
          "text": [
            "3638.163637117973\n"
          ]
        }
      ],
      "source": [
        "X = np.arange(8)\n",
        "Y = X + 0.5\n",
        "C = 1.0 / np.subtract.outer(X, Y)\n",
        "print(np.linalg.det(C))"
      ]
    },
    {
      "cell_type": "markdown",
      "metadata": {
        "id": "SyacTCAiy9ge"
      },
      "source": [
        "#### 48. Print the minimum and maximum representable value for each numpy scalar type (★★☆) \n",
        "(**hint**: np.iinfo, np.finfo, eps)"
      ]
    },
    {
      "cell_type": "code",
      "execution_count": null,
      "metadata": {
        "id": "TrUgfuToy9gf",
        "colab": {
          "base_uri": "https://localhost:8080/"
        },
        "outputId": "4a36583f-a6ad-488b-fa49-a2b0e083133a"
      },
      "outputs": [
        {
          "output_type": "stream",
          "name": "stdout",
          "text": [
            "-128\n",
            "127\n",
            "-2147483648\n",
            "2147483647\n",
            "-9223372036854775808\n",
            "9223372036854775807\n",
            "-3.4028235e+38\n",
            "3.4028235e+38\n",
            "1.1920929e-07\n",
            "-1.7976931348623157e+308\n",
            "1.7976931348623157e+308\n",
            "2.220446049250313e-16\n"
          ]
        }
      ],
      "source": [
        "for dtype in [np.int8, np.int32, np.int64]:\n",
        "   print(np.iinfo(dtype).min)\n",
        "   print(np.iinfo(dtype).max)\n",
        "for dtype in [np.float32, np.float64]:\n",
        "   print(np.finfo(dtype).min)\n",
        "   print(np.finfo(dtype).max)\n",
        "   print(np.finfo(dtype).eps)"
      ]
    },
    {
      "cell_type": "markdown",
      "metadata": {
        "id": "nTqjmEqqy9gf"
      },
      "source": [
        "#### 49. How to print all the values of an array? (★★☆) \n",
        "(**hint**: np.set\\_printoptions)"
      ]
    },
    {
      "cell_type": "code",
      "execution_count": null,
      "metadata": {
        "id": "L8MKdTxNy9gf"
      },
      "outputs": [],
      "source": [
        "\n",
        "np.set_printoptions(threshold=np.inf)\n",
        "Z = np.zeros((16,16))\n",
        "print(Z)"
      ]
    },
    {
      "cell_type": "markdown",
      "metadata": {
        "id": "xdhnMst6y9gf"
      },
      "source": [
        "#### 50. How to find the closest value (to a given scalar) in a vector? (★★☆) \n",
        "(**hint**: argmin)"
      ]
    },
    {
      "cell_type": "code",
      "execution_count": null,
      "metadata": {
        "id": "p4dXpAvzy9gf",
        "colab": {
          "base_uri": "https://localhost:8080/"
        },
        "outputId": "dadd177f-55f7-4914-cf49-eef7fe42e0e0"
      },
      "outputs": [
        {
          "output_type": "stream",
          "name": "stdout",
          "text": [
            "Original array:\n",
            "[ 0  1  2  3  4  5  6  7  8  9 10 11 12 13 14 15 16 17 18 19 20 21 22 23\n",
            " 24 25 26 27 28 29 30 31 32 33 34 35 36 37 38 39 40 41 42 43 44 45 46 47\n",
            " 48 49 50 51 52 53 54 55 56 57 58 59 60 61 62 63 64 65 66 67 68 69 70 71\n",
            " 72 73 74 75 76 77 78 79 80 81 82 83 84 85 86 87 88 89 90 91 92 93 94 95\n",
            " 96 97 98 99]\n",
            "Value to compare:\n",
            "69.66001844170592\n",
            "70\n"
          ]
        }
      ],
      "source": [
        "x = np.arange(100)\n",
        "print(\"Original array:\")\n",
        "print(x)\n",
        "a = np.random.uniform(0,100)\n",
        "print(\"Value to compare:\")\n",
        "print(a)\n",
        "index = (np.abs(x-a)).argmin()\n",
        "print(x[index])"
      ]
    },
    {
      "cell_type": "markdown",
      "metadata": {
        "id": "fxcaaVsmy9gg"
      },
      "source": [
        "#### 51. Create a structured array representing a position (x,y) and a color (r,g,b) (★★☆) \n",
        "(**hint**: dtype)"
      ]
    },
    {
      "cell_type": "code",
      "execution_count": null,
      "metadata": {
        "id": "5PaNSJ01y9gg",
        "colab": {
          "base_uri": "https://localhost:8080/"
        },
        "outputId": "f14dc25f-37d5-4f36-af7d-f5f33510db7a"
      },
      "outputs": [
        {
          "output_type": "stream",
          "name": "stdout",
          "text": [
            "[((0., 0.), (0., 0., 0.)) ((0., 0.), (0., 0., 0.))\n",
            " ((0., 0.), (0., 0., 0.)) ((0., 0.), (0., 0., 0.))\n",
            " ((0., 0.), (0., 0., 0.)) ((0., 0.), (0., 0., 0.))\n",
            " ((0., 0.), (0., 0., 0.)) ((0., 0.), (0., 0., 0.))\n",
            " ((0., 0.), (0., 0., 0.)) ((0., 0.), (0., 0., 0.))]\n"
          ]
        },
        {
          "output_type": "stream",
          "name": "stderr",
          "text": [
            "/usr/local/lib/python3.7/dist-packages/ipykernel_launcher.py:5: FutureWarning: Passing (type, 1) or '1type' as a synonym of type is deprecated; in a future version of numpy, it will be understood as (type, (1,)) / '(1,)type'.\n",
            "  \"\"\"\n"
          ]
        }
      ],
      "source": [
        "Z = np.zeros(10, [ ('position', [ ('x', float, 1),\n",
        "                                  ('y', float, 1)]),\n",
        "                   ('color',    [ ('r', float, 1),\n",
        "                                  ('g', float, 1),\n",
        "                                  ('b', float, 1)])])\n",
        "print(Z)"
      ]
    },
    {
      "cell_type": "markdown",
      "metadata": {
        "id": "IVN0MsOSy9gg"
      },
      "source": [
        "#### 52. Consider a random vector with shape (100,2) representing coordinates, find point by point distances (★★☆) \n",
        "(**hint**: np.atleast\\_2d, T, np.sqrt)"
      ]
    },
    {
      "cell_type": "code",
      "execution_count": null,
      "metadata": {
        "id": "PX_QzdRty9gh",
        "colab": {
          "base_uri": "https://localhost:8080/"
        },
        "outputId": "b6186b60-dbf4-414a-8a6b-3c899bdfb199"
      },
      "outputs": [
        {
          "output_type": "execute_result",
          "data": {
            "text/plain": [
              "array([[0.        , 0.69782278, 0.6985112 , 0.2692111 , 0.11133853,\n",
              "        0.60936461, 0.23748755, 0.55507858, 0.23336475, 0.67778956],\n",
              "       [0.69782278, 0.        , 0.23061606, 0.76102033, 0.58670949,\n",
              "        0.91261955, 0.46546341, 0.92823276, 0.90822846, 0.0296474 ],\n",
              "       [0.6985112 , 0.23061606, 0.        , 0.83750243, 0.59704373,\n",
              "        0.74698567, 0.46573273, 0.77930429, 0.92894796, 0.24967877],\n",
              "       [0.2692111 , 0.76102033, 0.83750243, 0.        , 0.29072704,\n",
              "        0.87852789, 0.39626452, 0.82255141, 0.24372547, 0.73446483],\n",
              "       [0.11133853, 0.58670949, 0.59704373, 0.29072704, 0.        ,\n",
              "        0.62256018, 0.13145199, 0.58162438, 0.33243583, 0.56649797],\n",
              "       [0.60936461, 0.91261955, 0.74698567, 0.87852789, 0.62256018,\n",
              "        0.        , 0.60861447, 0.08651268, 0.75708441, 0.91230119],\n",
              "       [0.23748755, 0.46546341, 0.46573273, 0.39626452, 0.13145199,\n",
              "        0.60861447, 0.        , 0.58526577, 0.46384639, 0.4476188 ],\n",
              "       [0.55507858, 0.92823276, 0.77930429, 0.82255141, 0.58162438,\n",
              "        0.08651268, 0.58526577, 0.        , 0.68579397, 0.92516769],\n",
              "       [0.23336475, 0.90822846, 0.92894796, 0.24372547, 0.33243583,\n",
              "        0.75708441, 0.46384639, 0.68579397, 0.        , 0.88549096],\n",
              "       [0.67778956, 0.0296474 , 0.24967877, 0.73446483, 0.56649797,\n",
              "        0.91230119, 0.4476188 , 0.92516769, 0.88549096, 0.        ]])"
            ]
          },
          "metadata": {},
          "execution_count": 20
        }
      ],
      "source": [
        "a= np.random.random((10,2))\n",
        "x,y = np.atleast_2d(a[:,0], a[:,1])\n",
        "d = np.sqrt( (x-x.T)**2 + (y-y.T)**2)\n",
        "d"
      ]
    },
    {
      "cell_type": "markdown",
      "metadata": {
        "id": "n67G-I0ay9gh"
      },
      "source": [
        "#### 53. How to convert a float (32 bits) array into an integer (32 bits) in place? \n",
        "(**hint**: astype(copy=False))"
      ]
    },
    {
      "cell_type": "code",
      "execution_count": null,
      "metadata": {
        "id": "9heCWOk7y9gh",
        "colab": {
          "base_uri": "https://localhost:8080/"
        },
        "outputId": "cf28bc59-c8b6-4a98-b739-ff2a870fc75b"
      },
      "outputs": [
        {
          "output_type": "stream",
          "name": "stdout",
          "text": [
            "[0. 1. 2. 3. 4. 5. 6. 7. 8. 9.]\n"
          ]
        },
        {
          "output_type": "execute_result",
          "data": {
            "text/plain": [
              "array([0, 1, 2, 3, 4, 5, 6, 7, 8, 9], dtype=int32)"
            ]
          },
          "metadata": {},
          "execution_count": 43
        }
      ],
      "source": [
        "Z = np.arange(10, dtype=np.float32)\n",
        "print(Z)\n",
        "Z=Z.astype(np.int32, copy=False)\n",
        "Z"
      ]
    },
    {
      "cell_type": "markdown",
      "metadata": {
        "id": "JCIMVlSRy9gi"
      },
      "source": [
        "#### 54. How to read the following file? (★★☆) \n",
        "(**hint**: np.genfromtxt)"
      ]
    },
    {
      "cell_type": "markdown",
      "metadata": {
        "id": "UPeo5yWZy9gi"
      },
      "source": [
        "```\n",
        "1, 2, 3, 4, 5\n",
        "6,  ,  , 7, 8\n",
        " ,  , 9,10,11\n",
        "```"
      ]
    },
    {
      "cell_type": "code",
      "execution_count": null,
      "metadata": {
        "id": "edWtHQ0Oy9gj",
        "colab": {
          "base_uri": "https://localhost:8080/"
        },
        "outputId": "747e9a1c-9dc8-4317-c221-129280b9824e"
      },
      "outputs": [
        {
          "output_type": "stream",
          "name": "stdout",
          "text": [
            "[[ 1  2  3  4  5]\n",
            " [ 6 -1 -1  7  8]\n",
            " [-1 -1  9 10 11]]\n"
          ]
        },
        {
          "output_type": "stream",
          "name": "stderr",
          "text": [
            "/usr/local/lib/python3.7/dist-packages/ipykernel_launcher.py:6: DeprecationWarning: `np.int` is a deprecated alias for the builtin `int`. To silence this warning, use `int` by itself. Doing this will not modify any behavior and is safe. When replacing `np.int`, you may wish to use e.g. `np.int64` or `np.int32` to specify the precision. If you wish to review your current use, check the release note link for additional information.\n",
            "Deprecated in NumPy 1.20; for more details and guidance: https://numpy.org/devdocs/release/1.20.0-notes.html#deprecations\n",
            "  \n"
          ]
        }
      ],
      "source": [
        "from io import StringIO\n",
        "\n",
        "s = StringIO(\"\"\"1, 2, 3, 4, 5\n",
        "                6,  ,  , 7, 8\n",
        "                 ,  , 9,10,11\"\"\")\n",
        "Z = np.genfromtxt(s, delimiter=\",\", dtype=np.int)\n",
        "print(Z)"
      ]
    },
    {
      "cell_type": "markdown",
      "metadata": {
        "id": "t8addbyEy9gj"
      },
      "source": [
        "#### 55. What is the equivalent of enumerate for numpy arrays? (★★☆) \n",
        "(**hint**: np.ndenumerate, np.ndindex)"
      ]
    },
    {
      "cell_type": "code",
      "execution_count": null,
      "metadata": {
        "id": "Zk_qHjAxy9gk",
        "colab": {
          "base_uri": "https://localhost:8080/"
        },
        "outputId": "aa8cfd31-13af-4018-f9be-ce6d52a5c630"
      },
      "outputs": [
        {
          "output_type": "stream",
          "name": "stdout",
          "text": [
            "[[0 1 2]\n",
            " [3 4 5]\n",
            " [6 7 8]]\n",
            "Using ndenumerate : \n",
            " [((0, 0), 0), ((0, 1), 1), ((0, 2), 2), ((1, 0), 3), ((1, 1), 4), ((1, 2), 5), ((2, 0), 6), ((2, 1), 7), ((2, 2), 8)] \n",
            "\n",
            "Using np.ndindex : \n",
            "\n",
            "[((0, 0), 0), ((0, 1), 1), ((0, 2), 2), ((1, 0), 3), ((1, 1), 4), ((1, 2), 5), ((2, 0), 6), ((2, 1), 7), ((2, 2), 8)]\n"
          ]
        },
        {
          "output_type": "execute_result",
          "data": {
            "text/plain": [
              "<numpy.ndindex at 0x7f83033ede10>"
            ]
          },
          "metadata": {},
          "execution_count": 80
        }
      ],
      "source": [
        "Z = np.arange(9).reshape(3,3)\n",
        "print(Z)\n",
        "print(\"Using ndenumerate : \\n\", list(np.ndenumerate(Z)),'\\n')\n",
        "print(\"Using np.ndindex : \\n\")\n",
        "l=[]\n",
        "for index in np.ndindex(Z.shape):\n",
        "    l.append((index, Z[index]))\n",
        "print(l)\n"
      ]
    },
    {
      "cell_type": "markdown",
      "metadata": {
        "id": "Z_W8zcAIy9gk"
      },
      "source": [
        "#### 56. Generate a generic 2D Gaussian-like array (★★☆) \n",
        "(**hint**: np.meshgrid, np.exp)"
      ]
    },
    {
      "cell_type": "code",
      "execution_count": null,
      "metadata": {
        "id": "adkV1ARTy9gl",
        "colab": {
          "base_uri": "https://localhost:8080/"
        },
        "outputId": "a3a15101-6f34-4194-818a-6fc14163bcc2"
      },
      "outputs": [
        {
          "output_type": "stream",
          "name": "stdout",
          "text": [
            "[[0.36787944 0.44822088 0.51979489 0.57375342 0.60279818 0.60279818\n",
            "  0.57375342 0.51979489 0.44822088 0.36787944]\n",
            " [0.44822088 0.54610814 0.63331324 0.69905581 0.73444367 0.73444367\n",
            "  0.69905581 0.63331324 0.54610814 0.44822088]\n",
            " [0.51979489 0.63331324 0.73444367 0.81068432 0.85172308 0.85172308\n",
            "  0.81068432 0.73444367 0.63331324 0.51979489]\n",
            " [0.57375342 0.69905581 0.81068432 0.89483932 0.9401382  0.9401382\n",
            "  0.89483932 0.81068432 0.69905581 0.57375342]\n",
            " [0.60279818 0.73444367 0.85172308 0.9401382  0.98773022 0.98773022\n",
            "  0.9401382  0.85172308 0.73444367 0.60279818]\n",
            " [0.60279818 0.73444367 0.85172308 0.9401382  0.98773022 0.98773022\n",
            "  0.9401382  0.85172308 0.73444367 0.60279818]\n",
            " [0.57375342 0.69905581 0.81068432 0.89483932 0.9401382  0.9401382\n",
            "  0.89483932 0.81068432 0.69905581 0.57375342]\n",
            " [0.51979489 0.63331324 0.73444367 0.81068432 0.85172308 0.85172308\n",
            "  0.81068432 0.73444367 0.63331324 0.51979489]\n",
            " [0.44822088 0.54610814 0.63331324 0.69905581 0.73444367 0.73444367\n",
            "  0.69905581 0.63331324 0.54610814 0.44822088]\n",
            " [0.36787944 0.44822088 0.51979489 0.57375342 0.60279818 0.60279818\n",
            "  0.57375342 0.51979489 0.44822088 0.36787944]]\n"
          ]
        }
      ],
      "source": [
        "X, Y = np.meshgrid(np.linspace(-1,1,10), np.linspace(-1,1,10))\n",
        "D = np.sqrt(X*X+Y*Y)\n",
        "sigma, mu = 1.0, 0.0\n",
        "G = np.exp(-( (D-mu)**2 / ( 2.0 * sigma**2 ) ) )\n",
        "print(G)"
      ]
    },
    {
      "cell_type": "markdown",
      "metadata": {
        "id": "tSvv9EJWy9gl"
      },
      "source": [
        "#### 57. How to randomly place p elements in a 2D array? (★★☆) \n",
        "(**hint**: np.put, np.random.choice)"
      ]
    },
    {
      "cell_type": "code",
      "execution_count": null,
      "metadata": {
        "id": "5W-YIO3Jy9gm",
        "colab": {
          "base_uri": "https://localhost:8080/"
        },
        "outputId": "44976fd2-f090-47cf-a320-4e93d37675bd"
      },
      "outputs": [
        {
          "output_type": "stream",
          "name": "stdout",
          "text": [
            "[[ 0.  0.  0.  0.  0.  0.  0.  0.  0.  0.]\n",
            " [ 0.  0.  0.  0.  0.  0.  0.  0.  0.  0.]\n",
            " [ 0.  0.  0.  0.  0.  0.  0.  0.  0.  0.]\n",
            " [ 0.  0.  0.  0.  0.  0.  0.  0.  0.  0.]\n",
            " [ 0.  0.  0.  0.  0.  0.  0.  0.  0.  0.]\n",
            " [ 0.  0.  0. 55.  0.  0.  0.  0. 33.  0.]\n",
            " [ 0.  0.  0.  0.  0.  0.  0.  0.  0.  0.]\n",
            " [ 0.  0.  0.  0.  0.  0.  0.  0.  0.  0.]\n",
            " [ 0.  0.  0.  0.  0.  0.  0.  0.  0.  0.]\n",
            " [ 0.  0.  0.  0.  0. 78.  0.  0.  0.  0.]]\n"
          ]
        }
      ],
      "source": [
        "n = 10\n",
        "p = 3\n",
        "Z = np.zeros((n,n))\n",
        "t= np.random.choice(range(n*n), p, replace=False)\n",
        "np.put(Z,t,[33,55,78])\n",
        "print(Z)"
      ]
    },
    {
      "cell_type": "markdown",
      "metadata": {
        "id": "lz4Cq2yjy9gm"
      },
      "source": [
        "#### 58. Subtract the mean of each row of a matrix (★★☆) \n",
        "(**hint**: mean(axis=,keepdims=))"
      ]
    },
    {
      "cell_type": "code",
      "execution_count": null,
      "metadata": {
        "id": "656CCSN3y9gn",
        "colab": {
          "base_uri": "https://localhost:8080/"
        },
        "outputId": "77438da3-3f0c-43cd-b323-390be40a53c1"
      },
      "outputs": [
        {
          "output_type": "execute_result",
          "data": {
            "text/plain": [
              "array([[ 0.34729438,  0.2984105 , -0.30273213, -0.22697478,  0.39106657,\n",
              "        -0.34491653, -0.42930977,  0.2351224 ,  0.4262759 , -0.39423654],\n",
              "       [ 0.43358168,  0.18157818,  0.24081279, -0.04783362, -0.33989064,\n",
              "        -0.43252682, -0.40535641,  0.30734912, -0.32668146,  0.38896718],\n",
              "       [-0.24996929, -0.20992769,  0.00385275,  0.00550875, -0.32368187,\n",
              "        -0.20186381,  0.16029906,  0.52029202, -0.02664146,  0.32213153],\n",
              "       [ 0.35448683,  0.21378763, -0.44240863, -0.11353124, -0.10185031,\n",
              "        -0.22567588,  0.35337381,  0.01359304, -0.40735104,  0.35557579],\n",
              "       [-0.16575847, -0.23312168, -0.27843916,  0.36064987,  0.33930895,\n",
              "         0.29762541, -0.29090957, -0.2087936 ,  0.4936853 , -0.31424705]])"
            ]
          },
          "metadata": {},
          "execution_count": 103
        }
      ],
      "source": [
        "X = np.random.rand(5, 10)\n",
        "Y = X - X.mean(axis=1, keepdims=True)\n",
        "Y"
      ]
    },
    {
      "cell_type": "markdown",
      "metadata": {
        "id": "QKWzUnM6y9gn"
      },
      "source": [
        "#### 59. How to sort an array by the nth column? (★★☆) \n",
        "(**hint**: argsort)"
      ]
    },
    {
      "cell_type": "code",
      "execution_count": null,
      "metadata": {
        "id": "9Je2n26Yy9go",
        "colab": {
          "base_uri": "https://localhost:8080/"
        },
        "outputId": "e5f4fbef-6e07-41b2-e630-40d4a6ebfdee"
      },
      "outputs": [
        {
          "output_type": "stream",
          "name": "stdout",
          "text": [
            "[[3 7 9]\n",
            " [6 2 2]\n",
            " [1 3 4]] \n",
            "\n",
            "[7 2 3] \n",
            "\n",
            "[1 2 0] \n",
            "\n",
            "[[6 2 2]\n",
            " [1 3 4]\n",
            " [3 7 9]]\n"
          ]
        }
      ],
      "source": [
        "A= np.random.randint(0,10,(3,3))\n",
        "print(A,'\\n')\n",
        "print(A[:,1],\"\\n\")\n",
        "print(A[:,1].argsort(),\"\\n\")\n",
        "print(A[A[:,1].argsort()])"
      ]
    },
    {
      "cell_type": "markdown",
      "metadata": {
        "id": "Vv4uW0D_y9go"
      },
      "source": [
        "#### 60. How to tell if a given 2D array has null columns? (★★☆) \n",
        "(**hint**: any, ~)"
      ]
    },
    {
      "cell_type": "code",
      "execution_count": null,
      "metadata": {
        "id": "6Mvd2so2y9go",
        "colab": {
          "base_uri": "https://localhost:8080/"
        },
        "outputId": "2ca228cf-28d1-42e7-e2ca-9899b716944a"
      },
      "outputs": [
        {
          "output_type": "stream",
          "name": "stdout",
          "text": [
            "[[1 0 2 1 2 0 0 1 1 2]\n",
            " [1 0 2 2 1 1 0 0 2 1]\n",
            " [0 0 2 1 1 1 1 1 1 2]] \n",
            "\n",
            "[False  True False False False False False False False False] \n",
            "\n",
            "True\n"
          ]
        }
      ],
      "source": [
        "Z = np.random.randint(0,3,(3,10))\n",
        "print(Z,\"\\n\")\n",
        "print((~Z.any(axis=0)),\"\\n\")\n",
        "print((~Z.any(axis=0)).any())\n"
      ]
    },
    {
      "cell_type": "markdown",
      "metadata": {
        "id": "ulOArjExy9gp"
      },
      "source": [
        "#### 61. Find the nearest value from a given value in an array (★★☆) \n",
        "(**hint**: np.abs, argmin, flat)"
      ]
    },
    {
      "cell_type": "code",
      "execution_count": null,
      "metadata": {
        "id": "xeZcImeWy9gs",
        "colab": {
          "base_uri": "https://localhost:8080/"
        },
        "outputId": "c40a2e41-4fa0-4917-a8ac-e5334554b55b"
      },
      "outputs": [
        {
          "output_type": "stream",
          "name": "stdout",
          "text": [
            "0.4281897664898555\n"
          ]
        }
      ],
      "source": [
        "Z = np.random.uniform(0,1,10)\n",
        "z = 0.5\n",
        "m = Z.flat[np.abs(Z - z).argmin()]\n",
        "print(m)"
      ]
    },
    {
      "cell_type": "markdown",
      "metadata": {
        "id": "5N7b1Vxsy9gt"
      },
      "source": [
        "#### 62. Considering two arrays with shape (1,3) and (3,1), how to compute their sum using an iterator? (★★☆) \n",
        "(**hint**: np.nditer)"
      ]
    },
    {
      "cell_type": "code",
      "execution_count": null,
      "metadata": {
        "id": "_Ndb4NOHy9gu",
        "colab": {
          "base_uri": "https://localhost:8080/"
        },
        "outputId": "834ce45b-0ada-4289-dac1-d64ffc5dbcf1"
      },
      "outputs": [
        {
          "output_type": "stream",
          "name": "stdout",
          "text": [
            "[[0 1 2]\n",
            " [1 2 3]\n",
            " [2 3 4]]\n"
          ]
        }
      ],
      "source": [
        "A = np.arange(3).reshape(3,1)\n",
        "B = np.arange(3).reshape(1,3)\n",
        "it = np.nditer([A,B,None])\n",
        "for x,y,z in it: z[...] = x + y\n",
        "print(it.operands[2])"
      ]
    },
    {
      "cell_type": "markdown",
      "metadata": {
        "id": "gOaiHxY0y9gu"
      },
      "source": [
        "#### 63. Create an array class that has a name attribute (★★☆) \n",
        "(**hint**: class method)"
      ]
    },
    {
      "cell_type": "code",
      "execution_count": null,
      "metadata": {
        "id": "vQCwJtbmy9gu",
        "colab": {
          "base_uri": "https://localhost:8080/"
        },
        "outputId": "63c93b89-ddfb-4ca0-c0a9-64e7ac35de4f"
      },
      "outputs": [
        {
          "output_type": "stream",
          "name": "stdout",
          "text": [
            "[0 1 2 3 4 5 6 7 8 9]\n"
          ]
        }
      ],
      "source": [
        "class NamedArray(np.ndarray):\n",
        "    def __new__(cls, array, name=\"no name\"):\n",
        "        obj = np.asarray(array).view(cls)\n",
        "        obj.name = name\n",
        "        return obj\n",
        "    def __array_finalize__(self, obj):\n",
        "        if obj is None: return\n",
        "        self.info = getattr(obj, 'name', \"no name\")\n",
        "\n",
        "Z = NamedArray(np.arange(10), \"Array1\")\n",
        "print (Z)"
      ]
    },
    {
      "cell_type": "markdown",
      "metadata": {
        "id": "lecK-n0jy9gu"
      },
      "source": [
        "#### 64. Consider a given vector, how to add 1 to each element indexed by a second vector (be careful with repeated indices)? (★★★) \n",
        "(**hint**: np.bincount | np.add.at)"
      ]
    },
    {
      "cell_type": "code",
      "execution_count": null,
      "metadata": {
        "id": "igeXOYLOy9gv",
        "colab": {
          "base_uri": "https://localhost:8080/"
        },
        "outputId": "a988739f-1bb4-4a14-f664-ee48042a7d69"
      },
      "outputs": [
        {
          "output_type": "stream",
          "name": "stdout",
          "text": [
            "[1. 1. 1. 1. 1. 1. 1. 1. 1. 1.]\n",
            "[3. 2. 2. 2. 5. 3. 3. 3. 2. 5.]\n"
          ]
        }
      ],
      "source": [
        "Z = np.ones(10)\n",
        "print(Z)\n",
        "I = np.random.randint(0,len(Z),20)\n",
        "\n",
        "np.add.at(Z, I, 1)\n",
        "print(Z)"
      ]
    },
    {
      "cell_type": "markdown",
      "metadata": {
        "id": "pxk5F996y9gv"
      },
      "source": [
        "#### 65. How to accumulate elements of a vector (X) to an array (F) based on an index list (I)? (★★★) \n",
        "(**hint**: np.bincount)"
      ]
    },
    {
      "cell_type": "code",
      "execution_count": null,
      "metadata": {
        "id": "sB1g3Uamy9gv",
        "colab": {
          "base_uri": "https://localhost:8080/"
        },
        "outputId": "06c56763-63ea-43dd-a0f8-76fad6f3ea03"
      },
      "outputs": [
        {
          "output_type": "stream",
          "name": "stdout",
          "text": [
            "[0. 7. 0. 6. 5. 0. 0. 0. 0. 3.]\n"
          ]
        }
      ],
      "source": [
        "X = [1,2,3,4,5,6]\n",
        "I = [1,3,9,3,4,1]\n",
        "F = np.bincount(I,X)\n",
        "print(F)"
      ]
    },
    {
      "cell_type": "markdown",
      "metadata": {
        "id": "Pjzx9bdhy9gw"
      },
      "source": [
        "#### 66. Considering a (w,h,3) image of (dtype=ubyte), compute the number of unique colors (★★★) \n",
        "(**hint**: np.unique)"
      ]
    },
    {
      "cell_type": "code",
      "execution_count": null,
      "metadata": {
        "id": "6Y20BS7vy9g1",
        "colab": {
          "base_uri": "https://localhost:8080/"
        },
        "outputId": "cbfec581-e557-48ef-b072-3bd2a5bb4d68"
      },
      "outputs": [
        {
          "output_type": "stream",
          "name": "stdout",
          "text": [
            "8\n"
          ]
        }
      ],
      "source": [
        "w,h = 16,16\n",
        "I = np.random.randint(0,2,(h,w,3)).astype(np.ubyte)\n",
        "F = I[...,0]*(256*256) + I[...,1]*256 +I[...,2]\n",
        "n = len(np.unique(F))\n",
        "print(n)"
      ]
    },
    {
      "cell_type": "markdown",
      "metadata": {
        "id": "75yPOZNAy9g1"
      },
      "source": [
        "#### 67. Considering a four dimensions array, how to get sum over the last two axis at once? (★★★) \n",
        "(**hint**: sum(axis=(-2,-1)))"
      ]
    },
    {
      "cell_type": "code",
      "execution_count": null,
      "metadata": {
        "id": "d9VgugXey9g2",
        "colab": {
          "base_uri": "https://localhost:8080/"
        },
        "outputId": "9c0fe179-4174-43b1-dc90-5faed2dc14cf"
      },
      "outputs": [
        {
          "output_type": "stream",
          "name": "stdout",
          "text": [
            "[[57 50 49 54]\n",
            " [62 60 64 46]\n",
            " [52 34 50 53]]\n"
          ]
        }
      ],
      "source": [
        "A = np.random.randint(0,10,(3,4,3,4))\n",
        "sum = A.sum(axis=(-2,-1))\n",
        "print(sum)\n"
      ]
    },
    {
      "cell_type": "markdown",
      "metadata": {
        "id": "_YMmGxUny9g2"
      },
      "source": [
        "#### 68. Considering a one-dimensional vector D, how to compute means of subsets of D using a vector S of same size describing subset  indices? (★★★) \n",
        "(**hint**: np.bincount)"
      ]
    },
    {
      "cell_type": "code",
      "execution_count": null,
      "metadata": {
        "id": "D5Tu6lK9y9g2",
        "colab": {
          "base_uri": "https://localhost:8080/"
        },
        "outputId": "7eb36a66-2476-4a4e-f3a2-229e00475013"
      },
      "outputs": [
        {
          "output_type": "stream",
          "name": "stdout",
          "text": [
            "[0.49034622 0.49602996 0.47334568 0.27016712 0.5400732  0.54572727\n",
            " 0.40195762 0.50153589 0.3665755  0.4235727 ]\n"
          ]
        }
      ],
      "source": [
        "D = np.random.uniform(0,1,100)\n",
        "\n",
        "S = np.random.randint(0,10,100)\n",
        "D_sums = np.bincount(S, weights=D)\n",
        "\n",
        "D_counts = np.bincount(S)\n",
        "\n",
        "D_means = D_sums / D_counts\n",
        "print(D_means)"
      ]
    },
    {
      "cell_type": "markdown",
      "metadata": {
        "id": "hVYGWww6y9g3"
      },
      "source": [
        "#### 69. How to get the diagonal of a dot product? (★★★) \n",
        "(**hint**: np.diag)"
      ]
    },
    {
      "cell_type": "code",
      "execution_count": null,
      "metadata": {
        "id": "uVnQ5G1py9g3",
        "colab": {
          "base_uri": "https://localhost:8080/"
        },
        "outputId": "018488da-2765-4d97-8f4b-5254f6c0bf33"
      },
      "outputs": [
        {
          "output_type": "execute_result",
          "data": {
            "text/plain": [
              "array([1.10056425, 1.07413267, 1.01294418, 1.46225365])"
            ]
          },
          "metadata": {},
          "execution_count": 53
        }
      ],
      "source": [
        "A = np.random.uniform(0,1,(4,4))\n",
        "B = np.random.uniform(0,1,(4,4))\n",
        "\n",
        "np.diag(np.dot(A, B))"
      ]
    },
    {
      "cell_type": "markdown",
      "metadata": {
        "id": "eQGKAsyKy9g4"
      },
      "source": [
        "#### 70. Consider the vector \\[1, 2, 3, 4, 5\\], how to build a new vector with 3 consecutive zeros interleaved between each value? (★★★) \n",
        "(**hint**: array\\[::4\\])"
      ]
    },
    {
      "cell_type": "code",
      "execution_count": null,
      "metadata": {
        "id": "nU-vNYvOy9g4",
        "colab": {
          "base_uri": "https://localhost:8080/"
        },
        "outputId": "c85cda67-b2a1-4d3b-f03f-dd188a85bd10"
      },
      "outputs": [
        {
          "output_type": "stream",
          "name": "stdout",
          "text": [
            "[1. 0. 0. 0. 2. 0. 0. 0. 3. 0. 0. 0. 4. 0. 0. 0. 5.]\n"
          ]
        }
      ],
      "source": [
        "Z = np.array([1,2,3,4,5])\n",
        "nz = 3\n",
        "Z0 = np.zeros(len(Z) + (len(Z)-1)*(nz))\n",
        "Z0[::nz+1] = Z\n",
        "print(Z0)"
      ]
    },
    {
      "cell_type": "markdown",
      "metadata": {
        "id": "RcN6ks73y9g5"
      },
      "source": [
        "#### 71. Consider an array of dimension (5,5,3), how to mulitply it by an array with dimensions (5,5)? (★★★) \n",
        "(**hint**: array\\[:, :, None\\])"
      ]
    },
    {
      "cell_type": "code",
      "execution_count": null,
      "metadata": {
        "collapsed": true,
        "id": "Gz8hYr51y9g5",
        "colab": {
          "base_uri": "https://localhost:8080/"
        },
        "outputId": "95386ac4-8175-4678-9f72-ddc15ba9265f"
      },
      "outputs": [
        {
          "output_type": "stream",
          "name": "stdout",
          "text": [
            "[[[2. 2. 2.]\n",
            "  [2. 2. 2.]\n",
            "  [2. 2. 2.]\n",
            "  [2. 2. 2.]\n",
            "  [2. 2. 2.]]\n",
            "\n",
            " [[2. 2. 2.]\n",
            "  [2. 2. 2.]\n",
            "  [2. 2. 2.]\n",
            "  [2. 2. 2.]\n",
            "  [2. 2. 2.]]\n",
            "\n",
            " [[2. 2. 2.]\n",
            "  [2. 2. 2.]\n",
            "  [2. 2. 2.]\n",
            "  [2. 2. 2.]\n",
            "  [2. 2. 2.]]\n",
            "\n",
            " [[2. 2. 2.]\n",
            "  [2. 2. 2.]\n",
            "  [2. 2. 2.]\n",
            "  [2. 2. 2.]\n",
            "  [2. 2. 2.]]\n",
            "\n",
            " [[2. 2. 2.]\n",
            "  [2. 2. 2.]\n",
            "  [2. 2. 2.]\n",
            "  [2. 2. 2.]\n",
            "  [2. 2. 2.]]]\n"
          ]
        }
      ],
      "source": [
        "A = np.ones((5,5,3))\n",
        "B = 2*np.ones((5,5))\n",
        "print(A * B[:,:,None])\n"
      ]
    },
    {
      "cell_type": "markdown",
      "metadata": {
        "id": "FOC5oXtHy9g6"
      },
      "source": [
        "#### 72. How to swap two rows of an array? (★★★) \n",
        "(**hint**: array\\[\\[\\]\\] = array\\[\\[\\]\\])"
      ]
    },
    {
      "cell_type": "code",
      "execution_count": null,
      "metadata": {
        "id": "oqNmO_sly9g6",
        "colab": {
          "base_uri": "https://localhost:8080/"
        },
        "outputId": "4309062a-a57d-4941-a82d-71b65fe04355"
      },
      "outputs": [
        {
          "output_type": "stream",
          "name": "stdout",
          "text": [
            "[[ 0  1  2  3  4]\n",
            " [ 5  6  7  8  9]\n",
            " [10 11 12 13 14]\n",
            " [15 16 17 18 19]\n",
            " [20 21 22 23 24]] \n",
            "\n",
            "[[ 5  6  7  8  9]\n",
            " [ 0  1  2  3  4]\n",
            " [10 11 12 13 14]\n",
            " [15 16 17 18 19]\n",
            " [20 21 22 23 24]]\n"
          ]
        }
      ],
      "source": [
        "A = np.arange(25).reshape(5,5)\n",
        "print(A,\"\\n\")\n",
        "A[[0,1]] = A[[1,0]]\n",
        "print(A)"
      ]
    },
    {
      "cell_type": "markdown",
      "metadata": {
        "id": "cMQ8pnrLy9g7"
      },
      "source": [
        "#### 73. Consider a set of 10 triplets describing 10 triangles (with shared vertices), find the set of unique line segments composing all the  triangles (★★★) \n",
        "(**hint**: repeat, np.roll, np.sort, view, np.unique)"
      ]
    },
    {
      "cell_type": "code",
      "execution_count": null,
      "metadata": {
        "id": "7tt_DYIYy9g8",
        "colab": {
          "base_uri": "https://localhost:8080/"
        },
        "outputId": "6b86b25d-ba41-4a0e-dae3-40a98079984f"
      },
      "outputs": [
        {
          "output_type": "stream",
          "name": "stdout",
          "text": [
            "[( 4, 47) ( 4, 56) ( 5, 16) ( 5, 30) (16, 24) (16, 30) (16, 61) (21, 56)\n",
            " (21, 69) (22, 52) (22, 56) (24, 61) (35, 36) (35, 88) (36, 88) (47, 56)\n",
            " (51, 59) (51, 75) (52, 56) (53, 62) (53, 98) (56, 69) (56, 75) (56, 95)\n",
            " (59, 75) (62, 98) (72, 74) (72, 98) (74, 98) (75, 95)]\n"
          ]
        }
      ],
      "source": [
        "faces = np.random.randint(0,100,(10,3))\n",
        "\n",
        "F = np.roll(faces.repeat(2,axis=1),-1,axis=1)\n",
        "F = F.reshape(len(F)*3,2)\n",
        "F = np.sort(F,axis=1)\n",
        "G = F.view( dtype=[('p0',F.dtype),('p1',F.dtype)] )\n",
        "G = np.unique(G)\n",
        "print(G)"
      ]
    },
    {
      "cell_type": "markdown",
      "metadata": {
        "id": "KTDrxog5y9g8"
      },
      "source": [
        "#### 74. Given an array C that is a bincount, how to produce an array A such that np.bincount(A) == C? (★★★) \n",
        "(**hint**: np.repeat)"
      ]
    },
    {
      "cell_type": "code",
      "execution_count": null,
      "metadata": {
        "id": "pb0CiVhoy9g9",
        "colab": {
          "base_uri": "https://localhost:8080/"
        },
        "outputId": "e0b16a99-889c-41fa-aa29-5d7b95f99609"
      },
      "outputs": [
        {
          "output_type": "stream",
          "name": "stdout",
          "text": [
            "[0 2 1 1 2 0 1]\n",
            "[0 1 2 3 4 5 6] \n",
            "\n",
            "[1 1 2 3 4 4 6]\n"
          ]
        }
      ],
      "source": [
        "C = np.bincount([1,1,2,3,4,4,6]) \n",
        "print(C)\n",
        "print(np.arange(len(C)),\"\\n\")\n",
        "A = np.repeat(np.arange(len(C)), C)\n",
        "print(A)\n"
      ]
    },
    {
      "cell_type": "markdown",
      "metadata": {
        "id": "9MbWZmFty9g-"
      },
      "source": [
        "#### 75. How to compute averages using a sliding window over an array? (★★★) \n",
        "(**hint**: np.cumsum)"
      ]
    },
    {
      "cell_type": "code",
      "execution_count": null,
      "metadata": {
        "id": "85jQNv5zy9hA",
        "colab": {
          "base_uri": "https://localhost:8080/"
        },
        "outputId": "825fc479-1096-4c26-9157-ebd824103d3e"
      },
      "outputs": [
        {
          "output_type": "stream",
          "name": "stdout",
          "text": [
            "[ 1.  2.  3.  4.  5.  6.  7.  8.  9. 10. 11. 12. 13. 14. 15. 16. 17. 18.]\n"
          ]
        }
      ],
      "source": [
        "def moving_average(a, n=3) :\n",
        "    ret = np.cumsum(a, dtype=float)\n",
        "    ret[n:] = ret[n:] - ret[:-n]\n",
        "    return ret[n - 1:] / n\n",
        "Z = np.arange(20)\n",
        "print(moving_average(Z, n=3))"
      ]
    },
    {
      "cell_type": "markdown",
      "metadata": {
        "id": "AXjWDSQay9hA"
      },
      "source": [
        "#### 76. Consider a one-dimensional array Z, build a two-dimensional array whose first row is (Z\\[0\\],Z\\[1\\],Z\\[2\\]) and each subsequent row is  shifted by 1 (last row should be (Z\\[-3\\],Z\\[-2\\],Z\\[-1\\]) (★★★) \n",
        "(**hint**: from numpy.lib import stride_tricks)"
      ]
    },
    {
      "cell_type": "code",
      "execution_count": null,
      "metadata": {
        "id": "r3nz614Ky9hA",
        "colab": {
          "base_uri": "https://localhost:8080/"
        },
        "outputId": "e4646c18-237f-4b85-f287-c7c56162a47a"
      },
      "outputs": [
        {
          "output_type": "stream",
          "name": "stdout",
          "text": [
            "[[0 1 2]\n",
            " [1 2 3]\n",
            " [2 3 4]\n",
            " [3 4 5]\n",
            " [4 5 6]\n",
            " [5 6 7]\n",
            " [6 7 8]\n",
            " [7 8 9]]\n"
          ]
        }
      ],
      "source": [
        "from numpy.lib import stride_tricks\n",
        "\n",
        "def rolling(a, window):\n",
        "    shape = (a.size - window + 1, window)\n",
        "    strides = (a.itemsize, a.itemsize)\n",
        "    return stride_tricks.as_strided(a, shape=shape, strides=strides)\n",
        "Z = rolling(np.arange(10), 3)\n",
        "print(Z)"
      ]
    },
    {
      "cell_type": "markdown",
      "metadata": {
        "id": "eKrNQUYJy9hA"
      },
      "source": [
        "#### 77. How to negate a boolean, or to change the sign of a float inplace? (★★★) \n",
        "(**hint**: np.logical_not, np.negative)"
      ]
    },
    {
      "cell_type": "code",
      "execution_count": null,
      "metadata": {
        "id": "s2X5WJmby9hB",
        "colab": {
          "base_uri": "https://localhost:8080/"
        },
        "outputId": "637809de-9aae-470a-bac2-54944db56358"
      },
      "outputs": [
        {
          "output_type": "stream",
          "name": "stdout",
          "text": [
            "[1 1 1 1 1 1 0 0 1 1 1 1 0 1 0 0 1 0 0 0 0 0 0 0 1 1 0 0 0 0 0 1 0 1 0 0 0\n",
            " 0 0 1 0 1 1 1 1 1 1 1 1 1 1 1 1 1 0 0 1 1 1 1 1 1 0 1 0 0 0 0 0 1 1 0 0 0\n",
            " 0 1 1 0 1 1 1 0 1 0 1 0 1 1 1 1 0 1 0 1 1 0 1 0 0 0] \n",
            "\n",
            "[0 0 0 0 0 0 1 1 0 0 0 0 1 0 1 1 0 1 1 1 1 1 1 1 0 0 1 1 1 1 1 0 1 0 1 1 1\n",
            " 1 1 0 1 0 0 0 0 0 0 0 0 0 0 0 0 0 1 1 0 0 0 0 0 0 1 0 1 1 1 1 1 0 0 1 1 1\n",
            " 1 0 0 1 0 0 0 1 0 1 0 1 0 0 0 0 1 0 1 0 0 1 0 1 1 1]\n",
            "[ 0.73957208  0.80486449 -0.16988126 -0.42652302 -0.74983284 -0.73362003\n",
            " -0.21753492  0.29430219  0.62758621  0.62801624 -0.51225596  0.73793996\n",
            "  0.70321938 -0.27672094 -0.35816443 -0.15688837 -0.95493772 -0.19741501\n",
            " -0.92187745  0.50432442 -0.55400427  0.42858567  0.12026765 -0.86549999\n",
            "  0.22507788  0.93477939  0.76806485 -0.98114556 -0.97928438  0.00173374\n",
            "  0.14862461  0.4067467   0.96849666 -0.32977703 -0.34018708 -0.58774822\n",
            " -0.03277827  0.13261511 -0.8296089  -0.71951889  0.98128912  0.89009082\n",
            "  0.1696149  -0.78123272  0.78914964 -0.25951669  0.56361679 -0.97338487\n",
            " -0.76988346 -0.14563794  0.26531948  0.54855665 -0.26276363 -0.94149575\n",
            " -0.45022248 -0.01837413 -0.72965214 -0.99913666 -0.15961331  0.9000311\n",
            " -0.55096387  0.46906268 -0.74263539  0.02571357 -0.25323688 -0.23680778\n",
            " -0.46614269  0.91473449 -0.85889512 -0.58991017  0.30748253  0.6494967\n",
            " -0.27926397  0.18711551  0.64771319 -0.5998332   0.79316017 -0.59333564\n",
            "  0.63920989  0.6539283  -0.5354507   0.4147411   0.74097835  0.07865932\n",
            " -0.26603111  0.85554911  0.38902658  0.67109804 -0.71971234 -0.73846463\n",
            "  0.33574743  0.69111735 -0.15257288 -0.31130941 -0.27435492 -0.69273131\n",
            " -0.55225404  0.45441381 -0.84401089  0.21097392]\n"
          ]
        },
        {
          "output_type": "execute_result",
          "data": {
            "text/plain": [
              "array([-0.73957208, -0.80486449,  0.16988126,  0.42652302,  0.74983284,\n",
              "        0.73362003,  0.21753492, -0.29430219, -0.62758621, -0.62801624,\n",
              "        0.51225596, -0.73793996, -0.70321938,  0.27672094,  0.35816443,\n",
              "        0.15688837,  0.95493772,  0.19741501,  0.92187745, -0.50432442,\n",
              "        0.55400427, -0.42858567, -0.12026765,  0.86549999, -0.22507788,\n",
              "       -0.93477939, -0.76806485,  0.98114556,  0.97928438, -0.00173374,\n",
              "       -0.14862461, -0.4067467 , -0.96849666,  0.32977703,  0.34018708,\n",
              "        0.58774822,  0.03277827, -0.13261511,  0.8296089 ,  0.71951889,\n",
              "       -0.98128912, -0.89009082, -0.1696149 ,  0.78123272, -0.78914964,\n",
              "        0.25951669, -0.56361679,  0.97338487,  0.76988346,  0.14563794,\n",
              "       -0.26531948, -0.54855665,  0.26276363,  0.94149575,  0.45022248,\n",
              "        0.01837413,  0.72965214,  0.99913666,  0.15961331, -0.9000311 ,\n",
              "        0.55096387, -0.46906268,  0.74263539, -0.02571357,  0.25323688,\n",
              "        0.23680778,  0.46614269, -0.91473449,  0.85889512,  0.58991017,\n",
              "       -0.30748253, -0.6494967 ,  0.27926397, -0.18711551, -0.64771319,\n",
              "        0.5998332 , -0.79316017,  0.59333564, -0.63920989, -0.6539283 ,\n",
              "        0.5354507 , -0.4147411 , -0.74097835, -0.07865932,  0.26603111,\n",
              "       -0.85554911, -0.38902658, -0.67109804,  0.71971234,  0.73846463,\n",
              "       -0.33574743, -0.69111735,  0.15257288,  0.31130941,  0.27435492,\n",
              "        0.69273131,  0.55225404, -0.45441381,  0.84401089, -0.21097392])"
            ]
          },
          "metadata": {},
          "execution_count": 36
        }
      ],
      "source": [
        "Z = np.random.randint(0,2,100)\n",
        "print(Z,\"\\n\")\n",
        "print(np.logical_not(Z, out=Z))\n",
        "\n",
        "Z = np.random.uniform(-1.0,1.0,100)\n",
        "print(Z)\n",
        "np.negative(Z, out=Z)"
      ]
    },
    {
      "cell_type": "markdown",
      "metadata": {
        "id": "Znnsnn4gy9hB"
      },
      "source": [
        "#### 78. Consider 2 sets of points P0,P1 describing lines (2d) and a point p, how to compute distance from p to each line i  (P0\\[i\\],P1\\[i\\])? (★★★)"
      ]
    },
    {
      "cell_type": "code",
      "execution_count": null,
      "metadata": {
        "id": "6IdptOVoy9hC",
        "colab": {
          "base_uri": "https://localhost:8080/"
        },
        "outputId": "a17fc540-91d4-4a34-acd5-d7b416fe7f51"
      },
      "outputs": [
        {
          "output_type": "stream",
          "name": "stdout",
          "text": [
            "[ 5.09331546 15.19086478  2.48074361 14.98490775  4.89149428 17.352692\n",
            "  9.81048303  5.06471262 11.75644588  8.790154  ]\n"
          ]
        }
      ],
      "source": [
        "def distance(P0, P1, p):\n",
        "    T = P1 - P0\n",
        "    L = (T**2).sum(axis=1)\n",
        "    U = -((P0[:,0]-p[...,0])*T[:,0] + (P0[:,1]-p[...,1])*T[:,1]) / L\n",
        "    U = U.reshape(len(U),1)\n",
        "    D = P0 + U*T - p\n",
        "    return np.sqrt((D**2).sum(axis=1))\n",
        "\n",
        "P0 = np.random.uniform(-10,10,(10,2))\n",
        "P1 = np.random.uniform(-10,10,(10,2))\n",
        "p  = np.random.uniform(-10,10,( 1,2))\n",
        "print(distance(P0, P1, p))"
      ]
    },
    {
      "cell_type": "markdown",
      "metadata": {
        "id": "nU4PtpVIy9hC"
      },
      "source": [
        "#### 79. Consider 2 sets of points P0,P1 describing lines (2d) and a set of points P, how to compute distance from each point j (P\\[j\\]) to each line i (P0\\[i\\],P1\\[i\\])? (★★★)"
      ]
    },
    {
      "cell_type": "code",
      "execution_count": null,
      "metadata": {
        "id": "s7vW-vaXy9hD",
        "colab": {
          "base_uri": "https://localhost:8080/"
        },
        "outputId": "3c63b22b-2880-4c9d-ba49-880e2c0c06e1"
      },
      "outputs": [
        {
          "output_type": "stream",
          "name": "stdout",
          "text": [
            "[[ 4.06323204  3.09327218  2.16477654  0.93546449  9.10145695  0.81715746\n",
            "   4.00486725  0.46256093  2.47074676  6.39255715]\n",
            " [ 7.0774377   8.33599197  7.3973528   9.67641351  2.42243636  1.9902766\n",
            "   6.61205638  1.93422625  2.39106245  3.33312986]\n",
            " [11.47912383 13.29879515  9.82087751 11.30337042  7.62915758  0.70078452\n",
            "  10.24496896  1.5248643   8.70834579  5.92723172]\n",
            " [ 0.66489422  0.39982644  0.73166155  3.57430574  5.5763847   0.017971\n",
            "   0.77474749  0.85067019  0.92154491  3.44463309]\n",
            " [ 0.69888812  0.33598395  2.82598564  6.41130576  6.63627378  5.93139898\n",
            "   0.07369012  7.18079651  7.82885797  1.51692098]\n",
            " [ 3.23174273  4.94678172  2.41182549  4.38711947  0.74255209  3.70571831\n",
            "   2.24832332  3.5995183   6.18112189  1.57706659]\n",
            " [ 5.24891946  2.88580642  7.49610236  5.81203198  8.24632166 13.21878849\n",
            "   6.92412133 12.5620875  11.01306665 11.40385158]\n",
            " [ 5.47965191  7.78388114  2.73267192  3.98159309  2.35891209  7.65238619\n",
            "   3.72332213  8.10104652 12.3831672   1.09738774]\n",
            " [ 1.87010056  3.68053773  0.84724609  2.78492175  1.95999984  5.1595499\n",
            "   0.78648671  4.9603108   6.87181881  3.13066909]\n",
            " [ 6.97687014  5.58979242  6.15790249  3.36306383 11.39517689  5.73843011\n",
            "   7.40054959  4.37408438  1.10154061 10.31171997]]\n"
          ]
        }
      ],
      "source": [
        "P0 = np.random.uniform(-10, 10, (10,2))\n",
        "P1 = np.random.uniform(-10,10,(10,2))\n",
        "p = np.random.uniform(-10, 10, (10,2))\n",
        "print(np.array([distance(P0,P1,p_i) for p_i in p]))"
      ]
    },
    {
      "cell_type": "markdown",
      "metadata": {
        "id": "xIYfgsXGy9hE"
      },
      "source": [
        "#### 80. Consider an arbitrary array, write a function that extract a subpart with a fixed shape and centered on a given element (pad with a `fill` value when necessary) (★★★) \n",
        "(**hint**: minimum, maximum)"
      ]
    },
    {
      "cell_type": "code",
      "execution_count": null,
      "metadata": {
        "id": "ldKYi9Kdy9hE",
        "colab": {
          "base_uri": "https://localhost:8080/"
        },
        "outputId": "1a029b3b-0ac9-4a56-dd54-e621a84f6065"
      },
      "outputs": [
        {
          "output_type": "stream",
          "name": "stdout",
          "text": [
            "[[6 9 6 3 8 9 8 2 5 3]\n",
            " [7 2 3 2 5 8 7 0 2 2]\n",
            " [1 5 2 8 0 2 5 1 5 5]\n",
            " [8 5 9 7 6 0 9 7 1 1]\n",
            " [9 0 4 4 6 5 0 7 6 5]\n",
            " [2 1 9 4 0 7 6 2 4 0]\n",
            " [8 3 1 0 0 3 5 0 6 0]\n",
            " [6 3 0 0 1 8 5 0 8 1]\n",
            " [5 0 2 2 1 1 3 5 9 4]\n",
            " [7 9 4 3 2 3 8 8 6 5]]\n",
            "[[0 0 0 0 0]\n",
            " [0 6 9 6 3]\n",
            " [0 7 2 3 2]\n",
            " [0 1 5 2 8]\n",
            " [0 8 5 9 7]]\n"
          ]
        },
        {
          "output_type": "stream",
          "name": "stderr",
          "text": [
            "/usr/local/lib/python3.7/dist-packages/ipykernel_launcher.py:23: FutureWarning: Using a non-tuple sequence for multidimensional indexing is deprecated; use `arr[tuple(seq)]` instead of `arr[seq]`. In the future this will be interpreted as an array index, `arr[np.array(seq)]`, which will result either in an error or a different result.\n"
          ]
        }
      ],
      "source": [
        "Z = np.random.randint(0,10,(10,10))\n",
        "shape = (5,5)\n",
        "fill  = 0\n",
        "position = (1,1)\n",
        "\n",
        "R = np.ones(shape, dtype=Z.dtype)*fill\n",
        "P  = np.array(list(position)).astype(int)\n",
        "Rs = np.array(list(R.shape)).astype(int)\n",
        "Zs = np.array(list(Z.shape)).astype(int)\n",
        "\n",
        "R_start = np.zeros((len(shape),)).astype(int)\n",
        "R_stop  = np.array(list(shape)).astype(int)\n",
        "Z_start = (P-Rs//2)\n",
        "Z_stop  = (P+Rs//2)+Rs%2\n",
        "\n",
        "R_start = (R_start - np.minimum(Z_start,0)).tolist()\n",
        "Z_start = (np.maximum(Z_start,0)).tolist()\n",
        "R_stop = np.maximum(R_start, (R_stop - np.maximum(Z_stop-Zs,0))).tolist()\n",
        "Z_stop = (np.minimum(Z_stop,Zs)).tolist()\n",
        "\n",
        "r = [slice(start,stop) for start,stop in zip(R_start,R_stop)]\n",
        "z = [slice(start,stop) for start,stop in zip(Z_start,Z_stop)]\n",
        "R[r] = Z[z]\n",
        "print(Z)\n",
        "print(R)"
      ]
    },
    {
      "cell_type": "markdown",
      "metadata": {
        "id": "HsQSxB7iy9hE"
      },
      "source": [
        "#### 81. Consider an array Z = \\[1,2,3,4,5,6,7,8,9,10,11,12,13,14\\], how to generate an array R = \\[\\[1,2,3,4\\], \\[2,3,4,5\\], \\[3,4,5,6\\], ..., \\[11,12,13,14\\]\\]? (★★★) \n",
        "(**hint**: stride\\_tricks.as\\_strided)"
      ]
    },
    {
      "cell_type": "code",
      "execution_count": null,
      "metadata": {
        "id": "QRBLwwOXy9hF",
        "colab": {
          "base_uri": "https://localhost:8080/"
        },
        "outputId": "78f4e093-47a1-422b-a0e7-2a557e011bcd"
      },
      "outputs": [
        {
          "output_type": "stream",
          "name": "stdout",
          "text": [
            "[[ 1  2  3  4]\n",
            " [ 2  3  4  5]\n",
            " [ 3  4  5  6]\n",
            " [ 4  5  6  7]\n",
            " [ 5  6  7  8]\n",
            " [ 6  7  8  9]\n",
            " [ 7  8  9 10]\n",
            " [ 8  9 10 11]\n",
            " [ 9 10 11 12]\n",
            " [10 11 12 13]\n",
            " [11 12 13 14]]\n"
          ]
        }
      ],
      "source": [
        "from numpy.lib import stride_tricks\n",
        "Z = np.arange(1,15,dtype=np.uint32)\n",
        "R = stride_tricks.as_strided(Z,(11,4),(4,4))\n",
        "print(R)"
      ]
    },
    {
      "cell_type": "markdown",
      "metadata": {
        "id": "e1Hvu_KXy9hG"
      },
      "source": [
        "#### 82. Compute a matrix rank (★★★) \n",
        "(**hint**: np.linalg.svd) (suggestion: np.linalg.svd)"
      ]
    },
    {
      "cell_type": "code",
      "execution_count": null,
      "metadata": {
        "id": "0SfyEr1Ey9hG",
        "colab": {
          "base_uri": "https://localhost:8080/"
        },
        "outputId": "11deb622-a2d1-4c78-d242-be3e509518b4"
      },
      "outputs": [
        {
          "output_type": "stream",
          "name": "stdout",
          "text": [
            "10\n"
          ]
        }
      ],
      "source": [
        "Z = np.random.uniform(0,1,(10,10))\n",
        "U, S, V = np.linalg.svd(Z)\n",
        "rank = np.sum(S > 1e-10)\n",
        "print(rank)"
      ]
    },
    {
      "cell_type": "markdown",
      "metadata": {
        "id": "bWYkeq86y9hH"
      },
      "source": [
        "#### 83. How to find the most frequent value in an array? \n",
        "(**hint**: np.bincount, argmax)"
      ]
    },
    {
      "cell_type": "code",
      "execution_count": null,
      "metadata": {
        "id": "uOgXNOrMy9hH",
        "colab": {
          "base_uri": "https://localhost:8080/"
        },
        "outputId": "fb90df4f-bff9-4211-d42d-addcbd786915"
      },
      "outputs": [
        {
          "output_type": "stream",
          "name": "stdout",
          "text": [
            "7\n"
          ]
        }
      ],
      "source": [
        "Z = np.random.randint(0,10,50)\n",
        "print(np.bincount(Z).argmax())"
      ]
    },
    {
      "cell_type": "markdown",
      "metadata": {
        "id": "W0vWQLyTy9hI"
      },
      "source": [
        "#### 84. Extract all the contiguous 3x3 blocks from a random 10x10 matrix (★★★) \n",
        "(**hint**: stride\\_tricks.as\\_strided)"
      ]
    },
    {
      "cell_type": "code",
      "execution_count": null,
      "metadata": {
        "id": "bZ45BFrAy9hI",
        "colab": {
          "base_uri": "https://localhost:8080/"
        },
        "outputId": "9dee3ef0-f31f-4cd6-dc30-9ba3dee9097f"
      },
      "outputs": [
        {
          "output_type": "stream",
          "name": "stdout",
          "text": [
            "[[[[1 2 2]\n",
            "   [0 4 2]\n",
            "   [0 4 4]]\n",
            "\n",
            "  [[2 2 1]\n",
            "   [4 2 2]\n",
            "   [4 4 0]]\n",
            "\n",
            "  [[2 1 2]\n",
            "   [2 2 1]\n",
            "   [4 0 4]]\n",
            "\n",
            "  [[1 2 2]\n",
            "   [2 1 0]\n",
            "   [0 4 0]]\n",
            "\n",
            "  [[2 2 1]\n",
            "   [1 0 3]\n",
            "   [4 0 1]]\n",
            "\n",
            "  [[2 1 0]\n",
            "   [0 3 1]\n",
            "   [0 1 1]]\n",
            "\n",
            "  [[1 0 4]\n",
            "   [3 1 2]\n",
            "   [1 1 3]]\n",
            "\n",
            "  [[0 4 1]\n",
            "   [1 2 3]\n",
            "   [1 3 0]]]\n",
            "\n",
            "\n",
            " [[[0 4 2]\n",
            "   [0 4 4]\n",
            "   [1 2 3]]\n",
            "\n",
            "  [[4 2 2]\n",
            "   [4 4 0]\n",
            "   [2 3 1]]\n",
            "\n",
            "  [[2 2 1]\n",
            "   [4 0 4]\n",
            "   [3 1 3]]\n",
            "\n",
            "  [[2 1 0]\n",
            "   [0 4 0]\n",
            "   [1 3 2]]\n",
            "\n",
            "  [[1 0 3]\n",
            "   [4 0 1]\n",
            "   [3 2 1]]\n",
            "\n",
            "  [[0 3 1]\n",
            "   [0 1 1]\n",
            "   [2 1 0]]\n",
            "\n",
            "  [[3 1 2]\n",
            "   [1 1 3]\n",
            "   [1 0 3]]\n",
            "\n",
            "  [[1 2 3]\n",
            "   [1 3 0]\n",
            "   [0 3 1]]]\n",
            "\n",
            "\n",
            " [[[0 4 4]\n",
            "   [1 2 3]\n",
            "   [1 4 3]]\n",
            "\n",
            "  [[4 4 0]\n",
            "   [2 3 1]\n",
            "   [4 3 1]]\n",
            "\n",
            "  [[4 0 4]\n",
            "   [3 1 3]\n",
            "   [3 1 0]]\n",
            "\n",
            "  [[0 4 0]\n",
            "   [1 3 2]\n",
            "   [1 0 1]]\n",
            "\n",
            "  [[4 0 1]\n",
            "   [3 2 1]\n",
            "   [0 1 2]]\n",
            "\n",
            "  [[0 1 1]\n",
            "   [2 1 0]\n",
            "   [1 2 2]]\n",
            "\n",
            "  [[1 1 3]\n",
            "   [1 0 3]\n",
            "   [2 2 4]]\n",
            "\n",
            "  [[1 3 0]\n",
            "   [0 3 1]\n",
            "   [2 4 1]]]\n",
            "\n",
            "\n",
            " [[[1 2 3]\n",
            "   [1 4 3]\n",
            "   [3 4 4]]\n",
            "\n",
            "  [[2 3 1]\n",
            "   [4 3 1]\n",
            "   [4 4 2]]\n",
            "\n",
            "  [[3 1 3]\n",
            "   [3 1 0]\n",
            "   [4 2 4]]\n",
            "\n",
            "  [[1 3 2]\n",
            "   [1 0 1]\n",
            "   [2 4 1]]\n",
            "\n",
            "  [[3 2 1]\n",
            "   [0 1 2]\n",
            "   [4 1 3]]\n",
            "\n",
            "  [[2 1 0]\n",
            "   [1 2 2]\n",
            "   [1 3 2]]\n",
            "\n",
            "  [[1 0 3]\n",
            "   [2 2 4]\n",
            "   [3 2 3]]\n",
            "\n",
            "  [[0 3 1]\n",
            "   [2 4 1]\n",
            "   [2 3 3]]]\n",
            "\n",
            "\n",
            " [[[1 4 3]\n",
            "   [3 4 4]\n",
            "   [0 4 0]]\n",
            "\n",
            "  [[4 3 1]\n",
            "   [4 4 2]\n",
            "   [4 0 0]]\n",
            "\n",
            "  [[3 1 0]\n",
            "   [4 2 4]\n",
            "   [0 0 2]]\n",
            "\n",
            "  [[1 0 1]\n",
            "   [2 4 1]\n",
            "   [0 2 1]]\n",
            "\n",
            "  [[0 1 2]\n",
            "   [4 1 3]\n",
            "   [2 1 0]]\n",
            "\n",
            "  [[1 2 2]\n",
            "   [1 3 2]\n",
            "   [1 0 1]]\n",
            "\n",
            "  [[2 2 4]\n",
            "   [3 2 3]\n",
            "   [0 1 2]]\n",
            "\n",
            "  [[2 4 1]\n",
            "   [2 3 3]\n",
            "   [1 2 4]]]\n",
            "\n",
            "\n",
            " [[[3 4 4]\n",
            "   [0 4 0]\n",
            "   [1 2 2]]\n",
            "\n",
            "  [[4 4 2]\n",
            "   [4 0 0]\n",
            "   [2 2 1]]\n",
            "\n",
            "  [[4 2 4]\n",
            "   [0 0 2]\n",
            "   [2 1 4]]\n",
            "\n",
            "  [[2 4 1]\n",
            "   [0 2 1]\n",
            "   [1 4 1]]\n",
            "\n",
            "  [[4 1 3]\n",
            "   [2 1 0]\n",
            "   [4 1 2]]\n",
            "\n",
            "  [[1 3 2]\n",
            "   [1 0 1]\n",
            "   [1 2 3]]\n",
            "\n",
            "  [[3 2 3]\n",
            "   [0 1 2]\n",
            "   [2 3 0]]\n",
            "\n",
            "  [[2 3 3]\n",
            "   [1 2 4]\n",
            "   [3 0 4]]]\n",
            "\n",
            "\n",
            " [[[0 4 0]\n",
            "   [1 2 2]\n",
            "   [0 0 3]]\n",
            "\n",
            "  [[4 0 0]\n",
            "   [2 2 1]\n",
            "   [0 3 1]]\n",
            "\n",
            "  [[0 0 2]\n",
            "   [2 1 4]\n",
            "   [3 1 4]]\n",
            "\n",
            "  [[0 2 1]\n",
            "   [1 4 1]\n",
            "   [1 4 0]]\n",
            "\n",
            "  [[2 1 0]\n",
            "   [4 1 2]\n",
            "   [4 0 0]]\n",
            "\n",
            "  [[1 0 1]\n",
            "   [1 2 3]\n",
            "   [0 0 4]]\n",
            "\n",
            "  [[0 1 2]\n",
            "   [2 3 0]\n",
            "   [0 4 4]]\n",
            "\n",
            "  [[1 2 4]\n",
            "   [3 0 4]\n",
            "   [4 4 4]]]\n",
            "\n",
            "\n",
            " [[[1 2 2]\n",
            "   [0 0 3]\n",
            "   [3 3 0]]\n",
            "\n",
            "  [[2 2 1]\n",
            "   [0 3 1]\n",
            "   [3 0 1]]\n",
            "\n",
            "  [[2 1 4]\n",
            "   [3 1 4]\n",
            "   [0 1 4]]\n",
            "\n",
            "  [[1 4 1]\n",
            "   [1 4 0]\n",
            "   [1 4 4]]\n",
            "\n",
            "  [[4 1 2]\n",
            "   [4 0 0]\n",
            "   [4 4 4]]\n",
            "\n",
            "  [[1 2 3]\n",
            "   [0 0 4]\n",
            "   [4 4 0]]\n",
            "\n",
            "  [[2 3 0]\n",
            "   [0 4 4]\n",
            "   [4 0 3]]\n",
            "\n",
            "  [[3 0 4]\n",
            "   [4 4 4]\n",
            "   [0 3 0]]]]\n"
          ]
        }
      ],
      "source": [
        "Z = np.random.randint(0,5,(10,10))\n",
        "n = 3\n",
        "i = 1 + (Z.shape[0]-3)\n",
        "j = 1 + (Z.shape[1]-3)\n",
        "C = stride_tricks.as_strided(Z, shape=(i, j, n, n), strides=Z.strides + Z.strides)\n",
        "print(C)"
      ]
    },
    {
      "cell_type": "markdown",
      "metadata": {
        "id": "VEUBrdBey9hQ"
      },
      "source": [
        "#### 85. Create a 2D array subclass such that Z\\[i,j\\] == Z\\[j,i\\] (★★★) \n",
        "(**hint**: class method)"
      ]
    },
    {
      "cell_type": "code",
      "execution_count": null,
      "metadata": {
        "id": "jKKHHQ7ty9hR",
        "colab": {
          "base_uri": "https://localhost:8080/"
        },
        "outputId": "93295edc-4ab3-4653-c47c-1a1ab40cce7d"
      },
      "outputs": [
        {
          "output_type": "execute_result",
          "data": {
            "text/plain": [
              "Symetric([[ 9,  7,  4,  7,  6],\n",
              "          [ 7,  7,  4,  9, 11],\n",
              "          [ 4,  4,  7,  5,  6],\n",
              "          [ 7,  9,  5,  7,  9],\n",
              "          [ 6, 11,  6,  9,  7]])"
            ]
          },
          "metadata": {},
          "execution_count": 8
        }
      ],
      "source": [
        "class Symetric(np.ndarray):\n",
        "    def __setitem__(self, index, value):\n",
        "        i,j = index\n",
        "        super(Symetric, self).__setitem__((i,j), value)\n",
        "        super(Symetric, self).__setitem__((j,i), value)\n",
        "\n",
        "def symetric(Z):\n",
        "    return np.asarray(Z + Z.T - np.diag(Z.diagonal())).view(Symetric)\n",
        "\n",
        "S = symetric(np.random.randint(0,10,(5,5)))\n",
        "S"
      ]
    },
    {
      "cell_type": "markdown",
      "metadata": {
        "id": "TxEGrEChy9hS"
      },
      "source": [
        "#### 86. Consider a set of p matrices wich shape (n,n) and a set of p vectors with shape (n,1). How to compute the sum of of the p matrix products at once? (result has shape (n,1)) (★★★) \n",
        "(**hint**: np.tensordot)"
      ]
    },
    {
      "cell_type": "code",
      "execution_count": null,
      "metadata": {
        "id": "r-TX_Mt6y9hS",
        "colab": {
          "base_uri": "https://localhost:8080/"
        },
        "outputId": "0a7a9df8-f3c3-4e39-82c6-adc2ad5ac7a0"
      },
      "outputs": [
        {
          "output_type": "stream",
          "name": "stdout",
          "text": [
            "[[200.]\n",
            " [200.]\n",
            " [200.]\n",
            " [200.]\n",
            " [200.]\n",
            " [200.]\n",
            " [200.]\n",
            " [200.]\n",
            " [200.]\n",
            " [200.]\n",
            " [200.]\n",
            " [200.]\n",
            " [200.]\n",
            " [200.]\n",
            " [200.]\n",
            " [200.]\n",
            " [200.]\n",
            " [200.]\n",
            " [200.]\n",
            " [200.]]\n"
          ]
        }
      ],
      "source": [
        "p, n = 10, 20\n",
        "M = np.ones((p,n,n))\n",
        "V = np.ones((p,n,1))\n",
        "S = np.tensordot(M, V, axes=[[0, 2], [0, 1]])\n",
        "print(S)"
      ]
    },
    {
      "cell_type": "markdown",
      "metadata": {
        "id": "_ir53NAIy9hS"
      },
      "source": [
        "#### 87. Consider a 16x16 array, how to get the block-sum (block size is 4x4)? (★★★) \n",
        "(**hint**: np.add.reduceat)"
      ]
    },
    {
      "cell_type": "code",
      "execution_count": null,
      "metadata": {
        "id": "r_JQB1Cuy9hS",
        "colab": {
          "base_uri": "https://localhost:8080/"
        },
        "outputId": "8b4313c5-c538-4bc3-a1cc-07eea7415898"
      },
      "outputs": [
        {
          "output_type": "stream",
          "name": "stdout",
          "text": [
            "[[16. 16. 16. 16.]\n",
            " [16. 16. 16. 16.]\n",
            " [16. 16. 16. 16.]\n",
            " [16. 16. 16. 16.]]\n"
          ]
        }
      ],
      "source": [
        "Z = np.ones((16,16))\n",
        "k = 4\n",
        "S = np.add.reduceat(np.add.reduceat(Z, np.arange(0, Z.shape[0], k), axis=0),\n",
        "                                       np.arange(0, Z.shape[1], k), axis=1)\n",
        "print(S)"
      ]
    },
    {
      "cell_type": "markdown",
      "metadata": {
        "id": "zxdyVH3ey9hS"
      },
      "source": [
        "#### 88. How to implement the Game of Life using numpy arrays? (★★★)"
      ]
    },
    {
      "cell_type": "code",
      "execution_count": null,
      "metadata": {
        "id": "q6rvdLWAy9hT",
        "colab": {
          "base_uri": "https://localhost:8080/"
        },
        "outputId": "3fe94bc4-c69c-4225-86ed-3a955d3a72c5"
      },
      "outputs": [
        {
          "output_type": "stream",
          "name": "stdout",
          "text": [
            "[[0 0 0 ... 0 0 0]\n",
            " [0 0 0 ... 0 0 0]\n",
            " [0 0 0 ... 0 0 0]\n",
            " ...\n",
            " [0 0 0 ... 0 0 0]\n",
            " [0 0 0 ... 0 0 0]\n",
            " [0 0 0 ... 0 0 0]]\n"
          ]
        }
      ],
      "source": [
        "def iterate(Z):\n",
        "    N = (Z[0:-2,0:-2] + Z[0:-2,1:-1] + Z[0:-2,2:] +\n",
        "         Z[1:-1,0:-2]                + Z[1:-1,2:] +\n",
        "         Z[2:  ,0:-2] + Z[2:  ,1:-1] + Z[2:  ,2:])\n",
        "\n",
        "    birth = (N==3) & (Z[1:-1,1:-1]==0)\n",
        "    survive = ((N==2) | (N==3)) & (Z[1:-1,1:-1]==1)\n",
        "    Z[...] = 0\n",
        "    Z[1:-1,1:-1][birth | survive] = 1\n",
        "    return Z\n",
        "\n",
        "Z = np.random.randint(0,2,(50,50))\n",
        "for i in range(100): Z = iterate(Z)\n",
        "print(Z)"
      ]
    },
    {
      "cell_type": "markdown",
      "metadata": {
        "id": "EfjG31cny9hT"
      },
      "source": [
        "#### 89. How to get the n largest values of an array (★★★) \n",
        "(**hint**: np.argsort | np.argpartition)"
      ]
    },
    {
      "cell_type": "code",
      "execution_count": null,
      "metadata": {
        "id": "GqYhI240y9hT",
        "colab": {
          "base_uri": "https://localhost:8080/"
        },
        "outputId": "25fdc1b1-9500-441b-ec66-7e85cbf1efa9"
      },
      "outputs": [
        {
          "output_type": "stream",
          "name": "stdout",
          "text": [
            "[9995 9996 9997 9998 9999]\n",
            "[9999 9998 9996 9997 9995]\n"
          ]
        }
      ],
      "source": [
        "Z = np.arange(10000)\n",
        "np.random.shuffle(Z)\n",
        "n = 5\n",
        "\n",
        "# Slow\n",
        "print (Z[np.argsort(Z)[-n:]])\n",
        "\n",
        "# Fast\n",
        "print (Z[np.argpartition(-Z,n)[:n]])"
      ]
    },
    {
      "cell_type": "markdown",
      "metadata": {
        "id": "RrjBK_54y9hU"
      },
      "source": [
        "#### 90. Given an arbitrary number of vectors, build the cartesian product (every combinations of every item) (★★★) \n",
        "(**hint**: np.indices)"
      ]
    },
    {
      "cell_type": "code",
      "execution_count": null,
      "metadata": {
        "scrolled": true,
        "id": "9VDhZLIgy9hU",
        "colab": {
          "base_uri": "https://localhost:8080/"
        },
        "outputId": "0a1bc939-c6d1-4614-c785-94293ee536c6"
      },
      "outputs": [
        {
          "output_type": "stream",
          "name": "stdout",
          "text": [
            "[[1 4 6]\n",
            " [1 4 7]\n",
            " [1 5 6]\n",
            " [1 5 7]\n",
            " [2 4 6]\n",
            " [2 4 7]\n",
            " [2 5 6]\n",
            " [2 5 7]\n",
            " [3 4 6]\n",
            " [3 4 7]\n",
            " [3 5 6]\n",
            " [3 5 7]]\n"
          ]
        }
      ],
      "source": [
        "def cartesian(arrays):\n",
        "    arrays = [np.asarray(a) for a in arrays]\n",
        "    shape = (len(x) for x in arrays)\n",
        "\n",
        "    ix = np.indices(shape, dtype=int)\n",
        "    ix = ix.reshape(len(arrays), -1).T\n",
        "\n",
        "    for n, arr in enumerate(arrays):\n",
        "        ix[:, n] = arrays[n][ix[:, n]]\n",
        "\n",
        "    return ix\n",
        "\n",
        "print (cartesian(([1, 2, 3], [4, 5], [6, 7])))"
      ]
    },
    {
      "cell_type": "markdown",
      "metadata": {
        "id": "PDyQy_n_y9hU"
      },
      "source": [
        "#### 91. How to create a record array from a regular array? (★★★) \n",
        "(**hint**: np.core.records.fromarrays)"
      ]
    },
    {
      "cell_type": "code",
      "execution_count": null,
      "metadata": {
        "id": "UW1GKKhty9hV",
        "colab": {
          "base_uri": "https://localhost:8080/"
        },
        "outputId": "6ad0ed5e-a485-4132-f8f7-eb6394d645c6"
      },
      "outputs": [
        {
          "output_type": "stream",
          "name": "stdout",
          "text": [
            "[['Hello' '2.5' '3']\n",
            " ['World' '3.6' '2']]\n",
            "[(b'Hello', 2.5, 3) (b'World', 3.6, 2)]\n"
          ]
        }
      ],
      "source": [
        "Z = np.array([(\"Hello\", 2.5, 3),\n",
        "              (\"World\", 3.6, 2)])\n",
        "print(Z)\n",
        "R = np.core.records.fromarrays(Z.T, \n",
        "                               names='col1, col2, col3',\n",
        "                               formats = 'S8, f8, i8')\n",
        "print(R)"
      ]
    },
    {
      "cell_type": "markdown",
      "metadata": {
        "id": "ukxH4DmGy9hV"
      },
      "source": [
        "#### 92. Consider a large vector Z, compute Z to the power of 3 using 3 different methods (★★★) \n",
        "(**hint**: np.power, \\*, np.einsum)"
      ]
    },
    {
      "cell_type": "code",
      "execution_count": 5,
      "metadata": {
        "id": "KS3FwXZSy9hV",
        "colab": {
          "base_uri": "https://localhost:8080/"
        },
        "outputId": "edb6a3c0-fc4e-4d1d-a3e6-929785ee13fd"
      },
      "outputs": [
        {
          "output_type": "stream",
          "name": "stdout",
          "text": [
            "3.75 s ± 9.26 ms per loop (mean ± std. dev. of 7 runs, 1 loop each)\n",
            "139 ms ± 1.14 ms per loop (mean ± std. dev. of 7 runs, 10 loops each)\n",
            "117 ms ± 740 µs per loop (mean ± std. dev. of 7 runs, 10 loops each)\n"
          ]
        }
      ],
      "source": [
        "x = np.random.rand(int(5e7))\n",
        "\n",
        "%timeit np.power(x,3)\n",
        "%timeit x*x*x\n",
        "%timeit np.einsum('i,i,i->i',x,x,x)"
      ]
    },
    {
      "cell_type": "markdown",
      "metadata": {
        "id": "npFn77Dly9hW"
      },
      "source": [
        "#### 93. Consider two arrays A and B of shape (8,3) and (2,2). How to find rows of A that contain elements of each row of B regardless of the order of the elements in B? (★★★) \n",
        "(**hint**: np.where)"
      ]
    },
    {
      "cell_type": "code",
      "execution_count": 7,
      "metadata": {
        "id": "kTZiKq7Gy9hW",
        "colab": {
          "base_uri": "https://localhost:8080/"
        },
        "outputId": "f62b623a-ee7a-4f94-eae2-39cd945083ff"
      },
      "outputs": [
        {
          "output_type": "stream",
          "name": "stdout",
          "text": [
            "[0 1 3 4]\n"
          ]
        }
      ],
      "source": [
        "A = np.random.randint(0,5,(8,3))\n",
        "B = np.random.randint(0,5,(2,2))\n",
        "\n",
        "C = (A[..., np.newaxis, np.newaxis] == B)\n",
        "rows = np.where(C.any((3,1)).all(1))[0]\n",
        "print(rows)"
      ]
    },
    {
      "cell_type": "markdown",
      "metadata": {
        "id": "eVMxx76oy9hW"
      },
      "source": [
        "#### 94. Considering a 10x3 matrix, extract rows with unequal values (e.g. \\[2,2,3\\]) (★★★)"
      ]
    },
    {
      "cell_type": "code",
      "execution_count": 8,
      "metadata": {
        "id": "caN4a1Ayy9hX",
        "colab": {
          "base_uri": "https://localhost:8080/"
        },
        "outputId": "96978904-5d10-4a74-b10c-43bee9c39d76"
      },
      "outputs": [
        {
          "output_type": "stream",
          "name": "stdout",
          "text": [
            "[[4 1 2]\n",
            " [0 3 0]\n",
            " [0 0 4]\n",
            " [0 0 3]\n",
            " [1 4 0]\n",
            " [2 3 3]\n",
            " [0 4 3]\n",
            " [2 3 3]\n",
            " [0 1 1]\n",
            " [1 0 1]]\n",
            "[[4 1 2]\n",
            " [0 3 0]\n",
            " [0 0 4]\n",
            " [0 0 3]\n",
            " [1 4 0]\n",
            " [2 3 3]\n",
            " [0 4 3]\n",
            " [2 3 3]\n",
            " [0 1 1]\n",
            " [1 0 1]]\n",
            "[[4 1 2]\n",
            " [0 3 0]\n",
            " [0 0 4]\n",
            " [0 0 3]\n",
            " [1 4 0]\n",
            " [2 3 3]\n",
            " [0 4 3]\n",
            " [2 3 3]\n",
            " [0 1 1]\n",
            " [1 0 1]]\n"
          ]
        }
      ],
      "source": [
        "Z = np.random.randint(0,5,(10,3))\n",
        "print(Z)\n",
        "\n",
        "E = np.all(Z[:,1:] == Z[:,:-1], axis=1)\n",
        "U = Z[~E]\n",
        "print(U)\n",
        "\n",
        "U = Z[Z.max(axis=1) != Z.min(axis=1),:]\n",
        "print(U)"
      ]
    },
    {
      "cell_type": "markdown",
      "metadata": {
        "id": "VQb59uE4y9hX"
      },
      "source": [
        "#### 95. Convert a vector of ints into a matrix binary representation (★★★) \n",
        "(**hint**: np.unpackbits)"
      ]
    },
    {
      "cell_type": "code",
      "execution_count": 9,
      "metadata": {
        "id": "UObB_knky9hX",
        "colab": {
          "base_uri": "https://localhost:8080/"
        },
        "outputId": "e18a8eec-8266-4ba6-c1a4-25bb4d3a324b"
      },
      "outputs": [
        {
          "output_type": "stream",
          "name": "stdout",
          "text": [
            "[[0 0 0 0 0 0 0 0]\n",
            " [0 0 0 0 0 0 0 1]\n",
            " [0 0 0 0 0 0 1 0]\n",
            " [0 0 0 0 0 0 1 1]\n",
            " [0 0 0 0 1 1 1 1]\n",
            " [0 0 0 1 0 0 0 0]\n",
            " [0 0 1 0 0 0 0 0]\n",
            " [0 1 0 0 0 0 0 0]\n",
            " [1 0 0 0 0 0 0 0]]\n",
            "[[0 0 0 0 0 0 0 0]\n",
            " [0 0 0 0 0 0 0 1]\n",
            " [0 0 0 0 0 0 1 0]\n",
            " [0 0 0 0 0 0 1 1]\n",
            " [0 0 0 0 1 1 1 1]\n",
            " [0 0 0 1 0 0 0 0]\n",
            " [0 0 1 0 0 0 0 0]\n",
            " [0 1 0 0 0 0 0 0]\n",
            " [1 0 0 0 0 0 0 0]]\n"
          ]
        }
      ],
      "source": [
        "I = np.array([0, 1, 2, 3, 15, 16, 32, 64, 128])\n",
        "B = ((I.reshape(-1,1) & (2**np.arange(8))) != 0).astype(int)\n",
        "print(B[:,::-1])\n",
        "I = np.array([0, 1, 2, 3, 15, 16, 32, 64, 128], dtype=np.uint8)\n",
        "print(np.unpackbits(I[:, np.newaxis], axis=1))"
      ]
    },
    {
      "cell_type": "markdown",
      "metadata": {
        "id": "nhYQel_ny9hX"
      },
      "source": [
        "#### 96. Given a two dimensional array, how to extract unique rows? (★★★) \n",
        "(**hint**: np.ascontiguousarray)"
      ]
    },
    {
      "cell_type": "code",
      "source": [
        "Z = np.random.randint(0,2,(6,3))\n",
        "T = np.ascontiguousarray(Z).view(np.dtype((np.void, Z.dtype.itemsize * Z.shape[1])))\n",
        "_, idx = np.unique(T, return_index=True)\n",
        "uZ = Z[idx]\n",
        "print(uZ)"
      ],
      "metadata": {
        "colab": {
          "base_uri": "https://localhost:8080/"
        },
        "id": "Mo8C4ixdobZ-",
        "outputId": "ead9623e-bcc2-4f20-96f7-d5e82b0d84f4"
      },
      "execution_count": 12,
      "outputs": [
        {
          "output_type": "stream",
          "name": "stdout",
          "text": [
            "[[0 0 0]\n",
            " [0 0 1]\n",
            " [0 1 1]\n",
            " [1 0 0]\n",
            " [1 1 1]]\n"
          ]
        }
      ]
    },
    {
      "cell_type": "markdown",
      "metadata": {
        "id": "FY_GftZXy9hX"
      },
      "source": [
        "#### 97. Considering 2 vectors A & B, write the einsum equivalent of inner, outer, sum, and mul function (★★★) \n",
        "(**hint**: np.einsum)"
      ]
    },
    {
      "cell_type": "code",
      "execution_count": 13,
      "metadata": {
        "id": "iPsYRF6_y9hY",
        "colab": {
          "base_uri": "https://localhost:8080/"
        },
        "outputId": "8b991562-c948-4607-9b5d-bb328e40c0bf"
      },
      "outputs": [
        {
          "output_type": "execute_result",
          "data": {
            "text/plain": [
              "array([[0.54886183, 0.22111879, 0.47188323, 0.62832164, 0.61423969,\n",
              "        0.5527191 , 0.6081264 , 0.47730833, 0.15191036, 0.2254274 ],\n",
              "       [0.42642506, 0.17179295, 0.36661839, 0.48815946, 0.47721883,\n",
              "        0.42942188, 0.47246925, 0.37083329, 0.11802312, 0.17514042],\n",
              "       [0.42141816, 0.16977584, 0.36231371, 0.4824277 , 0.47161553,\n",
              "        0.42437979, 0.46692172, 0.36647912, 0.11663735, 0.173084  ],\n",
              "       [0.08865637, 0.0357168 , 0.0762222 , 0.10149133, 0.0992167 ,\n",
              "        0.08927942, 0.09822923, 0.0770985 , 0.02453773, 0.03641276],\n",
              "       [0.62940441, 0.25356681, 0.54112962, 0.72052454, 0.70437613,\n",
              "        0.63382772, 0.69736575, 0.54735082, 0.17420241, 0.25850768],\n",
              "       [0.74277328, 0.29923949, 0.63859835, 0.85030604, 0.83124897,\n",
              "        0.74799332, 0.82297587, 0.64594012, 0.2055799 , 0.30507031],\n",
              "       [0.34808895, 0.14023385, 0.29926902, 0.39848248, 0.38955169,\n",
              "        0.35053524, 0.38567463, 0.30270963, 0.09634177, 0.14296638],\n",
              "       [0.49003479, 0.19741927, 0.42130677, 0.5609781 , 0.54840545,\n",
              "        0.49347864, 0.54294738, 0.4261504 , 0.1356286 , 0.20126608],\n",
              "       [0.36453967, 0.14686132, 0.3134125 , 0.4173148 , 0.40796194,\n",
              "        0.36710157, 0.40390165, 0.31701571, 0.10089489, 0.14972298],\n",
              "       [0.10238831, 0.04124896, 0.08802822, 0.11721127, 0.11458433,\n",
              "        0.10310787, 0.11344392, 0.08904025, 0.02833836, 0.04205272]])"
            ]
          },
          "metadata": {},
          "execution_count": 13
        }
      ],
      "source": [
        "A = np.random.uniform(0,1,10)\n",
        "B = np.random.uniform(0,1,10)\n",
        "np.einsum('i->', A)      \n",
        "np.einsum('i,i->i', A, B) \n",
        "np.einsum('i,i', A, B)    \n",
        "np.einsum('i,j->ij', A, B)"
      ]
    },
    {
      "cell_type": "markdown",
      "metadata": {
        "id": "yyceNWtcy9hY"
      },
      "source": [
        "#### 98. Considering a path described by two vectors (X,Y), how to sample it using equidistant samples (★★★)? \n",
        "(**hint**: np.cumsum, np.interp)"
      ]
    },
    {
      "cell_type": "code",
      "execution_count": 15,
      "metadata": {
        "collapsed": true,
        "id": "vkL_-sgjy9hY"
      },
      "outputs": [],
      "source": [
        "phi = np.arange(0, 10*np.pi, 0.1)\n",
        "a = 1\n",
        "x = a*phi*np.cos(phi)\n",
        "y = a*phi*np.sin(phi)\n",
        "dr = (np.diff(x)**2 + np.diff(y)**2)**.5\n",
        "r = np.zeros_like(x)\n",
        "r[1:] = np.cumsum(dr)               \n",
        "r_int = np.linspace(0, r.max(), 200)\n",
        "x_int = np.interp(r_int, r, x)       \n",
        "y_int = np.interp(r_int, r, y)"
      ]
    },
    {
      "cell_type": "markdown",
      "metadata": {
        "id": "3NhCFw9Sy9hZ"
      },
      "source": [
        "#### 99. Given an integer n and a 2D array X, select from X the rows which can be interpreted as draws from a multinomial distribution with n degrees, i.e., the rows which only contain integers and which sum to n. (★★★) \n",
        "(**hint**: np.logical\\_and.reduce, np.mod)"
      ]
    },
    {
      "cell_type": "code",
      "execution_count": 16,
      "metadata": {
        "id": "HyCZ7I6by9hZ",
        "colab": {
          "base_uri": "https://localhost:8080/"
        },
        "outputId": "361d5ee3-1f60-402e-e64d-d887b1448fc8"
      },
      "outputs": [
        {
          "output_type": "stream",
          "name": "stdout",
          "text": [
            "[[2. 0. 1. 1.]]\n"
          ]
        }
      ],
      "source": [
        "X = np.asarray([[1.0, 0.0, 3.0, 8.0],\n",
        "                [2.0, 0.0, 1.0, 1.0],\n",
        "                [1.5, 2.5, 1.0, 0.0]])\n",
        "n = 4\n",
        "M = np.logical_and.reduce(np.mod(X, 1) == 0, axis=-1)\n",
        "M &= (X.sum(axis=-1) == n)\n",
        "print(X[M])"
      ]
    },
    {
      "cell_type": "markdown",
      "metadata": {
        "id": "Pl9SFTYMy9hZ"
      },
      "source": [
        "#### 100. Compute bootstrapped 95% confidence intervals for the mean of a 1D array X (i.e., resample the elements of an array with replacement N times, compute the mean of each sample, and then compute percentiles over the means). (★★★) \n",
        "(**hint**: np.percentile)"
      ]
    },
    {
      "cell_type": "code",
      "execution_count": 17,
      "metadata": {
        "id": "Ff6D5zzmy9ha",
        "colab": {
          "base_uri": "https://localhost:8080/"
        },
        "outputId": "dd7b1472-cb54-4b9f-a51f-d0c90a4d2e27"
      },
      "outputs": [
        {
          "output_type": "stream",
          "name": "stdout",
          "text": [
            "[-0.17346918  0.21047147]\n"
          ]
        }
      ],
      "source": [
        "X = np.random.randn(100) # random 1D array\n",
        "N = 1000 # number of bootstrap samples\n",
        "idx = np.random.randint(0, X.size, (N, X.size))\n",
        "means = X[idx].mean(axis=1)\n",
        "confint = np.percentile(means, [2.5, 97.5])\n",
        "print(confint)"
      ]
    }
  ],
  "metadata": {
    "kernelspec": {
      "display_name": "Python 3",
      "language": "python",
      "name": "python3"
    },
    "language_info": {
      "codemirror_mode": {
        "name": "ipython",
        "version": 3
      },
      "file_extension": ".py",
      "mimetype": "text/x-python",
      "name": "python",
      "nbconvert_exporter": "python",
      "pygments_lexer": "ipython3",
      "version": "3.8.3"
    },
    "colab": {
      "provenance": [],
      "collapsed_sections": [
        "3ADSlzNNy9fw",
        "d7_rjZfFy9fy",
        "W4SfQpZ2y9fz",
        "9q0cy-Ley9f0",
        "p9gFNtqEy9gB",
        "JzXmGdJRy9gE",
        "1Tml2XQ5y9gF",
        "5-ER1bTTy9gG",
        "KyTprS5Wy9gH",
        "K08SnkU9y9gK",
        "N43FHSToy9gM",
        "xPntkXCqy9gN",
        "5JJMD47my9gN",
        "OhhWCMWhy9gO",
        "nJr9mKAKy9gP",
        "VqFhrvuFy9gQ",
        "4Ct9F4bVy9gR",
        "mY4loep7y9gS",
        "3j3LzBCxy9gT",
        "lkbZ1do6y9gU",
        "SfOtbuFzy9gV",
        "efcS5BKmy9gX",
        "oAWXtUIOy9gX",
        "SBMA1Om0y9gY",
        "jh9VkGdky9ga",
        "AqPTrpAny9gb",
        "w7H4ioPmy9gc",
        "2D5igKZ9y9gc",
        "1PdBsuGAy9gd",
        "5_iO-h1Ry9ge",
        "SyacTCAiy9ge",
        "nTqjmEqqy9gf",
        "xdhnMst6y9gf",
        "fxcaaVsmy9gg",
        "IVN0MsOSy9gg",
        "n67G-I0ay9gh",
        "JCIMVlSRy9gi",
        "t8addbyEy9gj",
        "Z_W8zcAIy9gk",
        "tSvv9EJWy9gl",
        "lz4Cq2yjy9gm",
        "QKWzUnM6y9gn",
        "Vv4uW0D_y9go",
        "ulOArjExy9gp",
        "5N7b1Vxsy9gt",
        "gOaiHxY0y9gu",
        "lecK-n0jy9gu",
        "pxk5F996y9gv",
        "Pjzx9bdhy9gw",
        "75yPOZNAy9g1",
        "_YMmGxUny9g2",
        "hVYGWww6y9g3",
        "eQGKAsyKy9g4",
        "RcN6ks73y9g5",
        "FOC5oXtHy9g6",
        "cMQ8pnrLy9g7",
        "KTDrxog5y9g8",
        "9MbWZmFty9g-",
        "AXjWDSQay9hA",
        "eKrNQUYJy9hA",
        "Znnsnn4gy9hB",
        "nU4PtpVIy9hC",
        "xIYfgsXGy9hE",
        "HsQSxB7iy9hE",
        "e1Hvu_KXy9hG",
        "bWYkeq86y9hH",
        "W0vWQLyTy9hI",
        "VEUBrdBey9hQ",
        "TxEGrEChy9hS",
        "_ir53NAIy9hS",
        "zxdyVH3ey9hS",
        "EfjG31cny9hT",
        "RrjBK_54y9hU",
        "PDyQy_n_y9hU",
        "ukxH4DmGy9hV",
        "npFn77Dly9hW",
        "eVMxx76oy9hW",
        "VQb59uE4y9hX",
        "nhYQel_ny9hX",
        "FY_GftZXy9hX",
        "yyceNWtcy9hY",
        "3NhCFw9Sy9hZ",
        "Pl9SFTYMy9hZ"
      ],
      "include_colab_link": true
    }
  },
  "nbformat": 4,
  "nbformat_minor": 0
}